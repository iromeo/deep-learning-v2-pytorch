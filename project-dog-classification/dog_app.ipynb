{
 "cells" : [
  {
   "cell_type" : "code",
   "execution_count" : null,
   "outputs" : [ ],
   "source" : [
    "use_udacity_workspace = False"
   ],
   "metadata" : {
    "collapsed" : false,
    "pycharm" : {
     "name" : "#%%\n"
    }
   }
  },
  {
   "cell_type" : "markdown",
   "source" : [
    "# Convolutional Neural Networks\n",
    "\n",
    "## Project: Write an Algorithm for a Dog Identification App \n",
    "\n",
    "---\n",
    "\n",
    "In this notebook, some template code has already been provided for you, and you will need to implement additional functionality to successfully complete this project. You will not need to modify the included code beyond what is requested. Sections that begin with **'(IMPLEMENTATION)'** in the header indicate that the following block of code will require additional functionality which you must provide. Instructions will be provided for each section, and the specifics of the implementation are marked in the code block with a 'TODO' statement. Please be sure to read the instructions carefully! \n",
    "\n",
    "> **Note**: Once you have completed all of the code implementations, you need to finalize your work by exporting the Jupyter Notebook as an HTML document. Before exporting the notebook to html, all of the code cells need to have been run so that reviewers can see the final implementation and output. You can then export the notebook by using the menu above and navigating to **File -> Download as -> HTML (.html)**. Include the finished document along with this notebook as your submission.\n",
    "\n",
    "In addition to implementing code, there will be questions that you must answer which relate to the project and your implementation. Each section where you will answer a question is preceded by a **'Question X'** header. Carefully read each question and provide thorough answers in the following text boxes that begin with **'Answer:'**. Your project submission will be evaluated based on your answers to each of the questions and the implementation you provide.\n",
    "\n",
    ">**Note:** Code and Markdown cells can be executed using the **Shift + Enter** keyboard shortcut.  Markdown cells can be edited by double-clicking the cell to enter edit mode.\n",
    "\n",
    "The rubric contains _optional_ \"Stand Out Suggestions\" for enhancing the project beyond the minimum requirements. If you decide to pursue the \"Stand Out Suggestions\", you should include the code in this Jupyter notebook.\n",
    "\n",
    "\n",
    "\n",
    "---\n",
    "### Why We're Here \n",
    "\n",
    "In this notebook, you will make the first steps towards developing an algorithm that could be used as part of a mobile or web app.  At the end of this project, your code will accept any user-supplied image as input.  If a dog is detected in the image, it will provide an estimate of the dog's breed.  If a human is detected, it will provide an estimate of the dog breed that is most resembling.  The image below displays potential sample output of your finished project (... but we expect that each student's algorithm will behave differently!). \n",
    "\n",
    "![Sample Dog Output](images/sample_dog_output.png)\n",
    "\n",
    "In this real-world setting, you will need to piece together a series of models to perform different tasks; for instance, the algorithm that detects humans in an image will be different from the CNN that infers dog breed.  There are many points of possible failure, and no perfect algorithm exists.  Your imperfect solution will nonetheless create a fun user experience!\n",
    "\n",
    "### The Road Ahead\n",
    "\n",
    "We break the notebook into separate steps.  Feel free to use the links below to navigate the notebook.\n",
    "\n",
    "* [Step 0](#step0): Import Datasets\n",
    "* [Step 1](#step1): Detect Humans\n",
    "* [Step 2](#step2): Detect Dogs\n",
    "* [Step 3](#step3): Create a CNN to Classify Dog Breeds (from Scratch)\n",
    "* [Step 4](#step4): Create a CNN to Classify Dog Breeds (using Transfer Learning)\n",
    "* [Step 5](#step5): Write your Algorithm\n",
    "* [Step 6](#step6): Test Your Algorithm\n",
    "\n",
    "---\n",
    "<a id='step0'></a>\n",
    "## Step 0: Import Datasets\n",
    "\n",
    "Make sure that you've downloaded the required human and dog datasets:\n",
    "* Download the [dog dataset](https://s3-us-west-1.amazonaws.com/udacity-aind/dog-project/dogImages.zip).  Unzip the folder and place it in this project's home directory, at the location `/dogImages`. \n",
    "\n",
    "* Download the [human dataset](https://s3-us-west-1.amazonaws.com/udacity-aind/dog-project/lfw.zip).  Unzip the folder and place it in the home directory, at location `/lfw`.  \n",
    "\n",
    "*Note: If you are using a Windows machine, you are encouraged to use [7zip](http://www.7-zip.org/) to extract the folder.*\n",
    "\n",
    "In the code cell below, we save the file paths for both the human (LFW) dataset and dog dataset in the numpy arrays `human_files` and `dog_files`."
   ],
   "metadata" : {
    "collapsed" : false
   }
  },
  {
   "cell_type" : "markdown",
   "source" : [
    "### Download and lyaout files"
   ],
   "metadata" : {
    "collapsed" : false
   }
  },
  {
   "cell_type" : "markdown",
   "source" : [
    "If local notebook instead of Udacity workspace:"
   ],
   "metadata" : {
    "collapsed" : false
   }
  },
  {
   "cell_type" : "code",
   "execution_count" : null,
   "outputs" : [ ],
   "source" : [
    "import os\n",
    "\n",
    "if not use_udacity_workspace:\n",
    "    if not os.path.exists(\"dogImages\"):\n",
    "        print(\"Download Dog Images dataset...\")\n",
    "        !wget https://s3-us-west-1.amazonaws.com/udacity-aind/dog-project/dogImages.zip\n",
    "        !unzip dogImages.zip\n",
    "        !rm -f dogImages.zip\n",
    "\n",
    "    if not os.path.exists(\"lfw\"):\n",
    "        print(\"Download Human dataset...\")\n",
    "        !wget https://s3-us-west-1.amazonaws.com/udacity-aind/dog-project/lfw.zip\n",
    "        !unzip lfw.zip\n",
    "        !rm -f lfw.zip"
   ],
   "metadata" : {
    "collapsed" : false,
    "pycharm" : {
     "name" : "#%%\n"
    }
   }
  },
  {
   "cell_type" : "markdown",
   "source" : [
    "### Import Datasets"
   ],
   "metadata" : {
    "collapsed" : false
   }
  },
  {
   "cell_type" : "code",
   "execution_count" : null,
   "outputs" : [ ],
   "source" : [
    "import numpy as np\n",
    "from glob import glob\n",
    "\n",
    "# load filenames for human and dog images\n",
    "data_path_prefix = \"/data/\" if use_udacity_workspace else \"\"\n",
    "\n",
    "human_files = np.array(glob(f\"{data_path_prefix}lfw/*/*\"))\n",
    "dog_files = np.array(glob(f\"{data_path_prefix}dogImages/*/*/*\"))\n",
    "\n",
    "# print number of images in each dataset\n",
    "print('There are %d total human images.' % len(human_files))\n",
    "print('There are %d total dog images.' % len(dog_files))"
   ],
   "metadata" : {
    "collapsed" : false,
    "pycharm" : {
     "name" : "#%%\n"
    }
   }
  },
  {
   "cell_type" : "markdown",
   "source" : [
    "<a id='step1'></a>\n",
    "## Step 1: Detect Humans\n",
    "\n",
    "In this section, we use OpenCV's implementation of [Haar feature-based cascade classifiers](http://docs.opencv.org/trunk/d7/d8b/tutorial_py_face_detection.html) to detect human faces in images ([up-to-date link](https://docs.opencv.org/trunk/db/d28/tutorial_cascade_classifier.html)).  \n",
    "\n",
    "OpenCV provides many pre-trained face detectors, stored as XML files on [github](https://github.com/opencv/opencv/tree/master/data/haarcascades).  We have downloaded one of these detectors and stored it in the `haarcascades` directory.  In the next code cell, we demonstrate how to use this detector to find human faces in a sample image."
   ],
   "metadata" : {
    "collapsed" : false
   }
  },
  {
   "cell_type" : "code",
   "execution_count" : null,
   "outputs" : [ ],
   "source" : [
    "import cv2                \n",
    "import matplotlib.pyplot as plt                        \n",
    "%matplotlib inline                               \n",
    "\n",
    "# extract pre-trained face detector\n",
    "face_cascade = cv2.CascadeClassifier('haarcascades/haarcascade_frontalface_alt.xml')\n",
    "\n",
    "def highlight_faces(img_path):\n",
    "    # load color (BGR) image\n",
    "    img = cv2.imread(img_path)\n",
    "    # convert BGR image to grayscale\n",
    "    gray = cv2.cvtColor(img, cv2.COLOR_BGR2GRAY)\n",
    "\n",
    "    # find faces in image\n",
    "    faces = face_cascade.detectMultiScale(gray)\n",
    "\n",
    "    # print number of faces detected in the image\n",
    "    print('Number of faces detected:', len(faces))\n",
    "\n",
    "    # get bounding box for each detected face\n",
    "    for (x,y,w,h) in faces:\n",
    "        # add bounding box to color image\n",
    "        cv2.rectangle(img,(x,y),(x+w,y+h),(255,0,0),2)\n",
    "\n",
    "    # convert BGR image to RGB for plotting\n",
    "    cv_rgb = cv2.cvtColor(img, cv2.COLOR_BGR2RGB)\n",
    "\n",
    "    # display the image, along with bounding box\n",
    "    plt.imshow(cv_rgb)\n",
    "    plt.show()\n",
    "    \n",
    "highlight_faces(human_files[0])"
   ],
   "metadata" : {
    "collapsed" : false,
    "pycharm" : {
     "name" : "#%%\n"
    }
   }
  },
  {
   "cell_type" : "markdown",
   "source" : [
    "Before using any of the face detectors, it is standard procedure to convert the images to grayscale.  The `detectMultiScale` function executes the classifier stored in `face_cascade` and takes the grayscale image as a parameter.  \n",
    "\n",
    "In the above code, `faces` is a numpy array of detected faces, where each row corresponds to a detected face.  Each detected face is a 1D array with four entries that specifies the bounding box of the detected face.  The first two entries in the array (extracted in the above code as `x` and `y`) specify the horizontal and vertical positions of the top left corner of the bounding box.  The last two entries in the array (extracted here as `w` and `h`) specify the width and height of the box.\n",
    "\n",
    "### Write a Human Face Detector\n",
    "\n",
    "We can use this procedure to write a function that returns `True` if a human face is detected in an image and `False` otherwise.  This function, aptly named `face_detector`, takes a string-valued file path to an image as input and appears in the code block below."
   ],
   "metadata" : {
    "collapsed" : false
   }
  },
  {
   "cell_type" : "code",
   "execution_count" : null,
   "outputs" : [ ],
   "source" : [
    "# returns \"True\" if face is detected in image stored at img_path\n",
    "def face_detector(img_path):\n",
    "    img = cv2.imread(img_path)\n",
    "    gray = cv2.cvtColor(img, cv2.COLOR_BGR2GRAY)\n",
    "    faces = face_cascade.detectMultiScale(gray)\n",
    "    return len(faces) > 0"
   ],
   "metadata" : {
    "collapsed" : false,
    "pycharm" : {
     "name" : "#%%\n"
    }
   }
  },
  {
   "cell_type" : "markdown",
   "source" : [
    "### (IMPLEMENTATION) Assess the Human Face Detector\n",
    "\n",
    "__Question 1:__ Use the code cell below to test the performance of the `face_detector` function.  \n",
    "- What percentage of the first 100 images in `human_files` have a detected human face?  \n",
    "- What percentage of the first 100 images in `dog_files` have a detected human face? \n",
    "\n",
    "Ideally, we would like 100% of human images with a detected face and 0% of dog images with a detected face.  You will see that our algorithm falls short of this goal, but still gives acceptable performance.  We extract the file paths for the first 100 images from each of the datasets and store them in the numpy arrays `human_files_short` and `dog_files_short`."
   ],
   "metadata" : {
    "collapsed" : false
   }
  },
  {
   "cell_type" : "markdown",
   "source" : [
    "__Answer:__ \n",
    "(You can print out your results and/or write your percentages in this cell)\n",
    "\n",
    "* First 100 images of `human_files` - `99%` human faces\n",
    "* First 100 images of `dog_files` - `18%` human faces"
   ],
   "metadata" : {
    "collapsed" : false
   }
  },
  {
   "cell_type" : "code",
   "execution_count" : null,
   "outputs" : [ ],
   "source" : [
    "from tqdm import tqdm\n",
    "\n",
    "human_files_short = human_files[:100]\n",
    "dog_files_short = dog_files[:100]\n",
    "\n",
    "#-#-# Do NOT modify the code above this line. #-#-#"
   ],
   "metadata" : {
    "collapsed" : false,
    "pycharm" : {
     "name" : "#%%\n"
    }
   }
  },
  {
   "cell_type" : "code",
   "execution_count" : null,
   "outputs" : [ ],
   "source" : [
    "import sys\n",
    "\n",
    "def check_detector(title_prefix, paths, detector_fun):\n",
    "    n = len(paths)\n",
    "\n",
    "    # Detected counter\n",
    "    detectected_cnt = 0\n",
    "\n",
    "    sys.stdout.flush()\n",
    "    sys.stderr.flush()\n",
    "    \n",
    "    for path in tqdm(paths):\n",
    "        detectected_cnt += int(detector_fun(path))\n",
    "\n",
    "    sys.stdout.flush()\n",
    "    sys.stderr.flush()\n",
    "    print(f\"{title_prefix} detected in {detectected_cnt / n:.1%} samples ({detectected_cnt} of {n})\")"
   ],
   "metadata" : {
    "collapsed" : false,
    "pycharm" : {
     "name" : "#%%\n"
    }
   }
  },
  {
   "cell_type" : "code",
   "execution_count" : null,
   "outputs" : [ ],
   "source" : [
    "## TODO: Test the performance of the face_detector algorithm \n",
    "## on the images in human_files_short and dog_files_short.\n",
    "\n",
    "print(\"Testing first 100 Human faces...\")\n",
    "check_detector(\"Human faces\", human_files_short, face_detector)\n",
    "\n",
    "print(\"------------\")\n",
    "\n",
    "print(\"Testing first 100 Dog images...\")\n",
    "check_detector(\"Human faces\", dog_files_short, face_detector)"
   ],
   "metadata" : {
    "collapsed" : false,
    "pycharm" : {
     "name" : "#%%\n"
    }
   }
  },
  {
   "cell_type" : "markdown",
   "source" : [
    "We suggest the face detector from OpenCV as a potential way to detect human images in your algorithm, but you are free to explore other approaches, especially approaches that make use of deep learning :).  Please use the code cell below to design and test your own face detection algorithm.  If you decide to pursue this _optional_ task, report performance on `human_files_short` and `dog_files_short`."
   ],
   "metadata" : {
    "collapsed" : false
   }
  },
  {
   "cell_type" : "markdown",
   "source" : [
    "### (Optional): Human faces VGG16 predictor"
   ],
   "metadata" : {
    "collapsed" : false
   }
  },
  {
   "cell_type" : "code",
   "execution_count" : null,
   "outputs" : [ ],
   "source" : [
    "### (Optional) \n",
    "### TODO: Test performance of another face detection algorithm.\n",
    "### Feel free to use as many code cells as needed."
   ],
   "metadata" : {
    "collapsed" : false,
    "pycharm" : {
     "name" : "#%%\n"
    }
   }
  },
  {
   "cell_type" : "markdown",
   "source" : [
    "Let's try to detect human faces using transfer learning and VGG16 Network.\n",
    "\n",
    "This is not honest face detector, because I'm using transfer learning to train it to differ dogs and humans, obviously we need more than 2 categories, otherwise the model won't cover the case when there is neither human nor dog on the image. But I realized this only after I've implemented and trained the model. So I'm leaving it here, it was a good excercise. Also data augmentation will be usefull for training.\n",
    "\n",
    "I didn't used first 100 human and dog images, so they are pure validation. Other data was split in test and train set.\n",
    "\n",
    "I've strarted with 3000 random images where test set is 10%, trained this for 20 epochs and good 100% accuracy on test and validation set (model `model_human_detector_gpu_small.pt`). Then I decide to use this model params as new defaults and re-train model in all dataset (except first 100 dogs and humans, ~21.000 images, 20% test set), I did it for 4 epochs (works rather slow) and got 100% accuracy on 4276 test images and our validation (100+100) dataset (model `model_human_detector_gpu_big.pt`). Not sure that I'll manage to submit these models due to submissions files limitation (each model ~500 mb).\n",
    "\n",
    "__Answer:__ \n",
    "(You can print out your results and/or write your percentages in this cell)\n",
    "\n",
    "* First 100 images of `human_files` - `100%` human faces\n",
    "* First 100 images of `dog_files` - `0%` human faces\n",
    "\n",
    "P.S: CV face detector is more honest (not limited to our dogs & humans dataset) and works faster."
   ],
   "metadata" : {
    "collapsed" : false
   }
  },
  {
   "cell_type" : "markdown",
   "source" : [
    "Here is source code form transfer learning and making such 'human' detector."
   ],
   "metadata" : {
    "collapsed" : false
   }
  },
  {
   "cell_type" : "code",
   "execution_count" : null,
   "outputs" : [ ],
   "source" : [
    "from torchvision import transforms\n",
    "\n",
    "from PIL import Image\n",
    "from PIL import ImageFile\n",
    "ImageFile.LOAD_TRUNCATED_IMAGES = True\n",
    "\n",
    "def load_image(img_path, max_size=400, shape=(224, 224)):\n",
    "    ''' Load in and transform an image, making sure the image\n",
    "       is <= 400 pixels in the x-y dims.'''\n",
    "    \n",
    "\n",
    "    try:\n",
    "        image = Image.open(img_path).convert('RGB')\n",
    "    except OSError as e:\n",
    "        print(\"Cannot load:\", img_path)\n",
    "        raise e\n",
    "        \n",
    "    in_transform = transforms.Compose([\n",
    "        transforms.Resize(shape),\n",
    "        transforms.ToTensor(),\n",
    "        transforms.Normalize(\n",
    "            (0.485, 0.456, 0.406), (0.229, 0.224, 0.225)\n",
    "        )\n",
    "    ])\n",
    "\n",
    "    # discard the transparent, alpha channel (that's the :3)\n",
    "    return in_transform(image)[:3,:,:]"
   ],
   "metadata" : {
    "collapsed" : false,
    "pycharm" : {
     "name" : "#%%\n"
    }
   }
  },
  {
   "cell_type" : "code",
   "execution_count" : null,
   "outputs" : [ ],
   "source" : [
    "# helper function for un-normalizing an image \n",
    "# and converting it from a Tensor image to a NumPy image for display\n",
    "def im_convert(tensor):\n",
    "    \"\"\" Display a tensor as an image. \"\"\"\n",
    "    \n",
    "    image = tensor.to(\"cpu\").clone().detach()\n",
    "    image = image.numpy() #.squeeze()\n",
    "    image = image.transpose(1,2,0)\n",
    "    image = image * np.array((0.229, 0.224, 0.225)) + np.array((0.485, 0.456, 0.406))\n",
    "    image = image.clip(0, 1)\n",
    "\n",
    "    return image"
   ],
   "metadata" : {
    "collapsed" : false,
    "pycharm" : {
     "name" : "#%%\n"
    }
   }
  },
  {
   "cell_type" : "code",
   "execution_count" : null,
   "outputs" : [ ],
   "source" : [
    "# display the images\n",
    "fig, (ax1, ax2) = plt.subplots(1, 2, figsize=(10, 5))\n",
    "# content and style ims side-by-side\n",
    "ax1.imshow(im_convert(load_image(human_files[0])))\n",
    "ax2.imshow(im_convert(load_image(dog_files[0])))"
   ],
   "metadata" : {
    "collapsed" : false,
    "pycharm" : {
     "name" : "#%%\n"
    }
   }
  },
  {
   "cell_type" : "code",
   "execution_count" : null,
   "outputs" : [ ],
   "source" : [
    "# Check image with \"truncated\" file\n",
    "plt.imshow(im_convert(load_image(\"dogImages/train/098.Leonberger/Leonberger_06571.jpg\")))"
   ],
   "metadata" : {
    "collapsed" : false,
    "pycharm" : {
     "name" : "#%%\n"
    }
   }
  },
  {
   "cell_type" : "markdown",
   "source" : [
    "Reserve first 100 dogs and humans for test. "
   ],
   "metadata" : {
    "collapsed" : false
   }
  },
  {
   "cell_type" : "code",
   "execution_count" : null,
   "outputs" : [ ],
   "source" : [
    "human_files_train = human_files[100:]\n",
    "dog_files_train = dog_files[100:]\n",
    "\n",
    "print(\"Humans: \", len(human_files_train))\n",
    "print(\"Dogs: \", len(dog_files_train))"
   ],
   "metadata" : {
    "collapsed" : false,
    "pycharm" : {
     "name" : "#%%\n"
    }
   }
  },
  {
   "cell_type" : "markdown",
   "source" : [
    "Assign lables for Dog and Humans"
   ],
   "metadata" : {
    "collapsed" : false
   }
  },
  {
   "cell_type" : "code",
   "execution_count" : null,
   "outputs" : [ ],
   "source" : [
    "all_files = np.concatenate([human_files_train, dog_files_train])\n",
    "\n",
    "classes = {\n",
    "    0: \"Dog\",\n",
    "    1: \"Human\"\n",
    "}\n",
    "all_labels = np.concatenate([np.ones(len(human_files_train), dtype=np.long), np.zeros(len(dog_files_train), dtype=np.byte)])\n",
    "\n",
    "print(\"All files:\", len(all_files))"
   ],
   "metadata" : {
    "collapsed" : false,
    "pycharm" : {
     "name" : "#%%\n"
    }
   }
  },
  {
   "cell_type" : "markdown",
   "source" : [
    "Split data in train and validation sets. At the moment we have too much images for my laptop, let's use only first random 3000 images of dataset."
   ],
   "metadata" : {
    "collapsed" : false
   }
  },
  {
   "cell_type" : "code",
   "execution_count" : null,
   "outputs" : [ ],
   "source" : [
    "np.random.seed(100)\n",
    "\n",
    "indices = list(range(len(all_files)))\n",
    "np.random.shuffle(indices)\n",
    "\n",
    "# to many imgs for my computer, let's take first 3000\n",
    "indices = indices[0:3000]\n",
    "\n",
    "test_size = 0.1 # to many imgs for my computer, should be 0.22 here\n",
    "\n",
    "split = int(np.floor(test_size * len(indices)))\n",
    "train_idx, valid_idx = indices[split:], indices[:split]\n",
    "\n",
    "print(\"Train: \", len(train_idx))\n",
    "print(\"Validation: \", len(valid_idx))"
   ],
   "metadata" : {
    "collapsed" : false,
    "pycharm" : {
     "name" : "#%%\n"
    }
   }
  },
  {
   "cell_type" : "code",
   "execution_count" : null,
   "outputs" : [ ],
   "source" : [
    "train_data = [(load_image(all_files[i]), all_labels[i]) for i in train_idx]\n",
    "valid_data = [(load_image(all_files[i]), all_labels[i]) for i in valid_idx]"
   ],
   "metadata" : {
    "collapsed" : false,
    "pycharm" : {
     "name" : "#%%\n"
    }
   }
  },
  {
   "cell_type" : "code",
   "execution_count" : null,
   "outputs" : [ ],
   "source" : [
    "import torch\n",
    "\n",
    "# define dataloader parameters\n",
    "batch_size = 20\n",
    "num_workers=0\n",
    "\n",
    "# prepare data loaders\n",
    "train_loader = torch.utils.data.DataLoader(\n",
    "    train_data, batch_size=batch_size, \n",
    "    num_workers=num_workers, shuffle=True\n",
    ")\n",
    "\n",
    "valid_loader = torch.utils.data.DataLoader(\n",
    "    valid_data, batch_size=batch_size, \n",
    "    num_workers=num_workers, shuffle=True\n",
    ")"
   ],
   "metadata" : {
    "collapsed" : false,
    "pycharm" : {
     "name" : "#%%\n"
    }
   }
  },
  {
   "cell_type" : "code",
   "execution_count" : null,
   "outputs" : [ ],
   "source" : [
    "# Visualize some sample data\n",
    "\n",
    "# obtain one batch of training images\n",
    "dataiter = iter(train_loader)\n",
    "images, labels = dataiter.next()\n",
    "\n",
    "# plot the images in the batch, along with the corresponding labels\n",
    "fig = plt.figure(figsize=(25, 4))\n",
    "for idx in np.arange(20):\n",
    "    ax = fig.add_subplot(2, 20/2, idx+1, xticks=[], yticks=[])\n",
    "    plt.imshow(im_convert(images[idx]))\n",
    "    ax.set_title(classes[labels[idx].item()])"
   ],
   "metadata" : {
    "collapsed" : false,
    "pycharm" : {
     "name" : "#%%\n"
    }
   }
  },
  {
   "cell_type" : "code",
   "execution_count" : null,
   "outputs" : [ ],
   "source" : [
    "import torch\n",
    "\n",
    "use_cuda = torch.cuda.is_available()\n",
    "if not use_cuda:\n",
    "    print('CUDA is not available.  Training on CPU ...')\n",
    "    device='cpu'\n",
    "else:\n",
    "    print('CUDA is available!  Training on GPU ...')\n",
    "    device='cuda'"
   ],
   "metadata" : {
    "collapsed" : false,
    "pycharm" : {
     "name" : "#%%\n"
    }
   }
  },
  {
   "cell_type" : "code",
   "execution_count" : null,
   "outputs" : [ ],
   "source" : [
    "import torchvision.models as models\n",
    "\n",
    "# define VGG16 model\n",
    "model_for_detector = models.vgg16(pretrained=True).to(device)\n",
    "\n",
    "\n",
    "# print out the model structure\n",
    "print(model_for_detector)"
   ],
   "metadata" : {
    "collapsed" : false,
    "pycharm" : {
     "name" : "#%%\n"
    }
   }
  },
  {
   "cell_type" : "code",
   "execution_count" : null,
   "outputs" : [ ],
   "source" : [
    "print(model_for_detector.classifier[6].in_features) \n",
    "print(model_for_detector.classifier[6].out_features) "
   ],
   "metadata" : {
    "collapsed" : false,
    "pycharm" : {
     "name" : "#%%\n"
    }
   }
  },
  {
   "cell_type" : "code",
   "execution_count" : null,
   "outputs" : [ ],
   "source" : [
    "# Freeze training for all \"features\" layers\n",
    "for param in model_for_detector.features.parameters():\n",
    "    param.requires_grad = False"
   ],
   "metadata" : {
    "collapsed" : false,
    "pycharm" : {
     "name" : "#%%\n"
    }
   }
  },
  {
   "cell_type" : "markdown",
   "source" : [
    "Final classifier layer"
   ],
   "metadata" : {
    "collapsed" : false
   }
  },
  {
   "cell_type" : "code",
   "execution_count" : null,
   "outputs" : [ ],
   "source" : [
    "import torch.nn as nn\n",
    "\n",
    "n_inputs = model_for_detector.classifier[6].in_features\n",
    "\n",
    "# add last linear layer (n_inputs -> 2 classes)\n",
    "# new layers automatically have requires_grad = True\n",
    "model_for_detector.classifier[6] = nn.Sequential(\n",
    "    nn.Linear(n_inputs, 250),\n",
    "    nn.ReLU(),\n",
    "    nn.Dropout(0.2),\n",
    "    nn.Linear(250, 2),\n",
    "    nn.LogSoftmax(dim=1)\n",
    ")\n",
    "\n",
    "\n",
    "# if GPU is available, move the model to GPU\n",
    "model_for_detector = model_for_detector.to(device)\n",
    "\n",
    "# check to see that your last layer produces the expected number of outputs\n",
    "print(model_for_detector.classifier[6])"
   ],
   "metadata" : {
    "collapsed" : false,
    "pycharm" : {
     "name" : "#%%\n"
    }
   }
  },
  {
   "cell_type" : "markdown",
   "source" : [
    "Loss function"
   ],
   "metadata" : {
    "collapsed" : false
   }
  },
  {
   "cell_type" : "code",
   "execution_count" : null,
   "outputs" : [ ],
   "source" : [
    "import torch.optim as optim\n",
    "\n",
    "# specify loss function\n",
    "criterion = nn.NLLLoss()\n",
    "\n",
    "# specify optimizer (stochastic gradient descent) and learning rate = 0.001\n",
    "optimizer = optim.SGD(model_for_detector.classifier.parameters(), lr=0.001)\n",
    "# optimizer = optim.Adam(model.classifier.parameters(), lr=0.003)"
   ],
   "metadata" : {
    "collapsed" : false,
    "pycharm" : {
     "name" : "#%%\n"
    }
   }
  },
  {
   "cell_type" : "code",
   "execution_count" : null,
   "outputs" : [ ],
   "source" : [
    "model = model_for_detector\n",
    "model_path = 'model_human_detector_tmp.pt'"
   ],
   "metadata" : {
    "collapsed" : false,
    "pycharm" : {
     "name" : "#%%\n"
    }
   }
  },
  {
   "cell_type" : "code",
   "execution_count" : null,
   "outputs" : [ ],
   "source" : [
    "n_epochs = 20  # number of epochs to train the model\n",
    "print_every = 2   # Print loss every <print_every> mini batches\n",
    "\n",
    "\n",
    "valid_loss_min = np.Inf # track change in test loss\n",
    "for epoch in range(1, n_epochs+1):\n",
    "\n",
    "    # keep track of training and validation loss\n",
    "    train_loss = 0.0\n",
    "    train_loss_latest = 0.0\n",
    "    valid_loss = 0.0\n",
    "    \n",
    "    ###################\n",
    "    # train the model #\n",
    "    ###################\n",
    "    model.train()\n",
    "    \n",
    "    # model by default is set to train\n",
    "    for batch_i, (data, target) in enumerate(train_loader):\n",
    "        # move tensors to GPU if CUDA is available\n",
    "        if use_cuda:\n",
    "            data, target = data.to(device), target.to(device)\n",
    "        \n",
    "        # clear the gradients of all optimized variables\n",
    "        optimizer.zero_grad()\n",
    "        # forward pass: compute predicted outputs by passing inputs to the model\n",
    "        output = model(data)\n",
    "        # calculate the batch loss\n",
    "        loss = criterion(output, target)\n",
    "        # backward pass: compute gradient of the loss with respect to model parameters\n",
    "        loss.backward()\n",
    "        # perform a single optimization step (parameter update)\n",
    "        optimizer.step()\n",
    "        \n",
    "        # update training loss \n",
    "        loss_value = loss.item()\n",
    "        train_loss_latest += loss_value\n",
    "        train_loss += loss_value * data.size(0)\n",
    "        \n",
    "        if batch_i % print_every == (print_every - 1):    # print training loss every specified number of mini-batches\n",
    "            print('Epoch %d, Batch %d loss: %.16f' %\n",
    "                  (epoch, batch_i + 1, train_loss_latest / print_every))\n",
    "            train_loss_latest = 0.0\n",
    "            \n",
    "        if batch_i > print_every:\n",
    "            break\n",
    "    \n",
    "            \n",
    "    ######################    \n",
    "    # validate the model #\n",
    "    ######################\n",
    "    model.eval()\n",
    "    for data, target in valid_loader:\n",
    "        # move tensors to GPU if CUDA is available\n",
    "        if use_cuda:\n",
    "            data, target = data.to(device), target.to(device)\n",
    "            \n",
    "        # forward pass: compute predicted outputs by passing inputs to the model\n",
    "        output = model(data)\n",
    "        # calculate the batch loss\n",
    "        loss = criterion(output, target)\n",
    "        # update average validation loss \n",
    "        valid_loss += loss.item()*data.size(0)\n",
    "    \n",
    "    # calculate average losses\n",
    "    train_loss = train_loss/len(train_loader.sampler)\n",
    "    valid_loss = valid_loss/len(valid_loader.sampler)\n",
    "        \n",
    "    # print training/validation statistics \n",
    "    print(f'Epoch: {epoch} \\tTraining Loss: {train_loss:.6f} \\tValidation Loss: {valid_loss:.6f}')\n",
    "    \n",
    "    # save model if validation loss has decreased\n",
    "    if valid_loss <= valid_loss_min:\n",
    "        print(f'Validation loss decreased ({valid_loss_min:.6f} --> {valid_loss:.6f}). Saving model ...')\n",
    "        torch.save(model.state_dict(), model_path)\n",
    "        valid_loss_min = valid_loss"
   ],
   "metadata" : {
    "collapsed" : false,
    "pycharm" : {
     "name" : "#%%\n"
    }
   }
  },
  {
   "cell_type" : "markdown",
   "source" : [
    "I've trained the model on GPU, let's load it and check how accurate is our human/dog detector.\n",
    "Requirements for notebook submissions is to make it less than 500 MB uncompressed, so I cannot attach my model (it is ~512 mb)"
   ],
   "metadata" : {
    "collapsed" : false
   }
  },
  {
   "cell_type" : "code",
   "execution_count" : null,
   "outputs" : [ ],
   "source" : [
    "model.load_state_dict(torch.load('additional_files/model_human_detector_gpu_small.pt', map_location=torch.device('cpu')))\n",
    "# model.load_state_dict(torch.load('additional_files/model_human_detector_gpu_big.pt', map_location=torch.device('cpu')))"
   ],
   "metadata" : {
    "collapsed" : false,
    "pycharm" : {
     "name" : "#%%\n"
    }
   }
  },
  {
   "cell_type" : "code",
   "execution_count" : null,
   "outputs" : [ ],
   "source" : [
    "# returns \"True\" if face is detected in image stored at img_path\n",
    "def face_detector_cnn(img_path, model):\n",
    "    data = load_image(img_path).unsqueeze(0)\n",
    "    output = model(data)\n",
    "    _, pred = torch.max(output, 1)\n",
    "    return pred.item() == 1"
   ],
   "metadata" : {
    "collapsed" : false,
    "pycharm" : {
     "name" : "#%%\n"
    }
   }
  },
  {
   "cell_type" : "code",
   "execution_count" : null,
   "outputs" : [ ],
   "source" : [
    "print(\"Check that detection works\")\n",
    "print(\"Some Human image -> human face: \", face_detector_cnn(human_files[0], model))\n",
    "print(\"Some Dog image -> human face: \", face_detector_cnn(dog_files[0], model))"
   ],
   "metadata" : {
    "collapsed" : false,
    "pycharm" : {
     "name" : "#%%\n"
    }
   }
  },
  {
   "cell_type" : "code",
   "execution_count" : null,
   "outputs" : [ ],
   "source" : [
    "from tqdm import tqdm\n",
    "\n",
    "human_files_short = human_files[:100]\n",
    "dog_files_short = dog_files[:100]\n",
    "\n",
    "#-#-# Do NOT modify the code above this line. #-#-#\n",
    "import sys\n",
    "\n",
    "## TODO: Test the performance of the face_detector algorithm \n",
    "## on the images in human_files_short and dog_files_short.\n",
    "\n",
    "print(\"Testing first 100 Human faces...\")\n",
    "check_detector(\"Human faces\", human_files_short, lambda p: face_detector_cnn(p, model))\n",
    "\n",
    "print(\"------------\")\n",
    "\n",
    "print(\"Testing first 100 Dog images...\")\n",
    "check_detector(\"Human faces\", dog_files_short, lambda p: face_detector_cnn(p, model))"
   ],
   "metadata" : {
    "collapsed" : false,
    "pycharm" : {
     "name" : "#%%\n"
    }
   }
  },
  {
   "cell_type" : "markdown",
   "source" : [
    "This detector is rather slow."
   ],
   "metadata" : {
    "collapsed" : false
   }
  },
  {
   "cell_type" : "markdown",
   "source" : [
    "---\n",
    "<a id='step2'></a>\n",
    "## Step 2: Detect Dogs\n",
    "\n",
    "In this section, we use a [pre-trained model](http://pytorch.org/docs/master/torchvision/models.html) to detect dogs in images.  \n",
    "\n",
    "### Obtain Pre-trained VGG-16 Model\n",
    "\n",
    "The code cell below downloads the VGG-16 model, along with weights that have been trained on [ImageNet](http://www.image-net.org/), a very large, very popular dataset used for image classification and other vision tasks.  ImageNet contains over 10 million URLs, each linking to an image containing an object from one of [1000 categories](https://gist.github.com/yrevar/942d3a0ac09ec9e5eb3a).  "
   ],
   "metadata" : {
    "collapsed" : false
   }
  },
  {
   "cell_type" : "code",
   "execution_count" : null,
   "outputs" : [ ],
   "source" : [
    "import torch\n",
    "import torchvision.models as models\n",
    "\n",
    "# define VGG16 model\n",
    "VGG16 = models.vgg16(pretrained=True)\n",
    "\n",
    "# check if CUDA is available\n",
    "use_cuda = torch.cuda.is_available()\n",
    "\n",
    "# move model to GPU if CUDA is available\n",
    "if use_cuda:\n",
    "    VGG16 = VGG16.cuda()"
   ],
   "metadata" : {
    "collapsed" : false,
    "pycharm" : {
     "name" : "#%%\n"
    }
   }
  },
  {
   "cell_type" : "markdown",
   "source" : [
    "Given an image, this pre-trained VGG-16 model returns a prediction (derived from the 1000 possible categories in ImageNet) for the object that is contained in the image."
   ],
   "metadata" : {
    "collapsed" : false
   }
  },
  {
   "cell_type" : "markdown",
   "source" : [
    "### (IMPLEMENTATION) Making Predictions with a Pre-trained Model\n",
    "\n",
    "In the next code cell, you will write a function that accepts a path to an image (such as `'dogImages/train/001.Affenpinscher/Affenpinscher_00001.jpg'`) as input and returns the index corresponding to the ImageNet class that is predicted by the pre-trained VGG-16 model.  The output should always be an integer between 0 and 999, inclusive.\n",
    "\n",
    "Before writing the function, make sure that you take the time to learn  how to appropriately pre-process tensors for pre-trained models in the [PyTorch documentation](http://pytorch.org/docs/stable/torchvision/models.html)."
   ],
   "metadata" : {
    "collapsed" : false
   }
  },
  {
   "cell_type" : "code",
   "execution_count" : null,
   "outputs" : [ ],
   "source" : [
    "import torchvision.transforms as transforms\n",
    "\n",
    "from PIL import Image\n",
    "from PIL import ImageFile\n",
    "# Set PIL to be tolerant of image files that are truncated.\n",
    "ImageFile.LOAD_TRUNCATED_IMAGES = True\n",
    "\n",
    "def load_image(img_path):\n",
    "    '''\n",
    "    Args:\n",
    "        img_path: path to an image\n",
    "        \n",
    "    Returns:\n",
    "        Tensor that can be used as VGG-16 model input\n",
    "    '''\n",
    "    \n",
    "    try:\n",
    "        image = Image.open(img_path).convert('RGB')\n",
    "    except OSError as e:\n",
    "        print(\"Cannot load:\", img_path)\n",
    "        raise e\n",
    "        \n",
    "    # VGG16 expects 224x224 images, let's resize automatically\n",
    "    in_transform = transforms.Compose([\n",
    "        transforms.Resize((224, 224)),\n",
    "        transforms.ToTensor(),\n",
    "        transforms.Normalize(\n",
    "            (0.485, 0.456, 0.406), \n",
    "            (0.229, 0.224, 0.225))\n",
    "    ])\n",
    "      \n",
    "        \n",
    "    # discard the transparent, alpha channel (that's the :3)\n",
    "    return in_transform(image)[:3,:,:]"
   ],
   "metadata" : {
    "collapsed" : false,
    "pycharm" : {
     "name" : "#%%\n"
    }
   }
  },
  {
   "cell_type" : "code",
   "execution_count" : null,
   "outputs" : [ ],
   "source" : [
    "def classification_model_predict(tensor, model):\n",
    "    '''\n",
    "    Obtain image class from model for image at specified path\n",
    "    \n",
    "    Args:\n",
    "        tensor: Image preprocessed for model to be used as input\n",
    "        \n",
    "    Returns:\n",
    "        Index corresponding to category class\n",
    "    '''\n",
    "    with torch.no_grad():\n",
    "        output = model(tensor.unsqueeze(0))\n",
    "\n",
    "        # predicted class index\n",
    "        _, pred = torch.max(output, 1)\n",
    "        return pred.item()\n",
    "    \n",
    "def VGG16_predict(img_path):\n",
    "    '''\n",
    "    Use pre-trained VGG-16 model to obtain index corresponding to \n",
    "    predicted ImageNet class for image at specified path\n",
    "    \n",
    "    Args:\n",
    "        img_path: path to an image\n",
    "        \n",
    "    Returns:\n",
    "        Index corresponding to VGG-16 model's prediction\n",
    "    '''\n",
    "    ## Load and pre-process an image from the given img_path\n",
    "    image = load_image(img_path)\n",
    "    \n",
    "    ## Return the *index* of the predicted class for that image\n",
    "    return classification_model_predict(image, VGG16)"
   ],
   "metadata" : {
    "collapsed" : false,
    "pycharm" : {
     "name" : "#%%\n"
    }
   }
  },
  {
   "cell_type" : "code",
   "execution_count" : null,
   "outputs" : [ ],
   "source" : [
    "# helper function for un-normalizing an image \n",
    "# and converting it from a Tensor image to a NumPy image for display\n",
    "def im_convert(tensor):\n",
    "    \"\"\" Display a tensor as an image. \"\"\"\n",
    "    \n",
    "    image = tensor.to(\"cpu\").clone().detach()\n",
    "    image = image.numpy() #.squeeze()\n",
    "    image = image.transpose(1,2,0)\n",
    "    image = image * np.array((0.229, 0.224, 0.225)) + np.array((0.485, 0.456, 0.406))\n",
    "    image = image.clip(0, 1)\n",
    "\n",
    "    return image"
   ],
   "metadata" : {
    "collapsed" : false,
    "pycharm" : {
     "name" : "#%%\n"
    }
   }
  },
  {
   "cell_type" : "markdown",
   "source" : [
    "Ensure prediction works:"
   ],
   "metadata" : {
    "collapsed" : false
   }
  },
  {
   "cell_type" : "code",
   "execution_count" : null,
   "outputs" : [ ],
   "source" : [
    "from additional_files.imgnet_cls_ids import IMAGENET_1000_CLS_IDX_2_LABELS"
   ],
   "metadata" : {
    "collapsed" : false,
    "pycharm" : {
     "name" : "#%%\n"
    }
   }
  },
  {
   "cell_type" : "code",
   "execution_count" : null,
   "outputs" : [ ],
   "source" : [
    "image_path = \"dogImages/train/098.Leonberger/Leonberger_06571.jpg\"\n",
    "plt.imshow(im_convert(load_image(image_path)))\n",
    "\n",
    "cls_id = VGG16_predict(image_path)\n",
    "print(\"Class: \", cls_id, \", image net label:\", IMAGENET_1000_CLS_IDX_2_LABELS[cls_id])"
   ],
   "metadata" : {
    "collapsed" : false,
    "pycharm" : {
     "name" : "#%%\n"
    }
   }
  },
  {
   "cell_type" : "markdown",
   "source" : [
    "### (IMPLEMENTATION) Write a Dog Detector\n",
    "\n",
    "While looking at the [dictionary](https://gist.github.com/yrevar/942d3a0ac09ec9e5eb3a), you will notice that the categories corresponding to dogs appear in an uninterrupted sequence and correspond to dictionary keys 151-268, inclusive, to include all categories from `'Chihuahua'` to `'Mexican hairless'`.  Thus, in order to check to see if an image is predicted to contain a dog by the pre-trained VGG-16 model, we need only check if the pre-trained model predicts an index between 151 and 268 (inclusive).\n",
    "\n",
    "Use these ideas to complete the `dog_detector` function below, which returns `True` if a dog is detected in an image (and `False` if not)."
   ],
   "metadata" : {
    "collapsed" : false
   }
  },
  {
   "cell_type" : "code",
   "execution_count" : null,
   "outputs" : [ ],
   "source" : [
    "### returns \"True\" if a dog is detected in the image stored at img_path\n",
    "def dog_detector(img_path, class_predictor_fun=VGG16_predict):\n",
    "    cls_id = class_predictor_fun(img_path)\n",
    "    return 151 <= cls_id <= 268"
   ],
   "metadata" : {
    "collapsed" : false,
    "pycharm" : {
     "name" : "#%%\n"
    }
   }
  },
  {
   "cell_type" : "markdown",
   "source" : [
    "Let's check how detector works for several examples:"
   ],
   "metadata" : {
    "collapsed" : false
   }
  },
  {
   "cell_type" : "code",
   "execution_count" : null,
   "outputs" : [ ],
   "source" : [
    "for p in [\n",
    "    \"dogImages/train/098.Leonberger/Leonberger_06571.jpg\",\n",
    "    \"dogImages/train/048.Chihuahua/Chihuahua_03398.jpg\",\n",
    "    \"lfw/AJ_Cook/AJ_Cook_0001.jpg\",\n",
    "    \"lfw/Woody_Allen/Woody_Allen_0001.jpg\"\n",
    "]:\n",
    "    is_dog = dog_detector(p)\n",
    "    cls_id = VGG16_predict(p)\n",
    "    print(f\"{p} is dog: {is_dog} (class: {cls_id}, label: {IMAGENET_1000_CLS_IDX_2_LABELS[cls_id]})\")\n",
    "    plt.imshow(im_convert(load_image(p)))\n",
    "    plt.show()"
   ],
   "metadata" : {
    "collapsed" : false,
    "pycharm" : {
     "name" : "#%%\n"
    }
   }
  },
  {
   "cell_type" : "markdown",
   "source" : [
    "### (IMPLEMENTATION) Assess the Dog Detector\n",
    "\n",
    "__Question 2:__ Use the code cell below to test the performance of your `dog_detector` function.  \n",
    "- What percentage of the images in `human_files_short` have a detected dog?  \n",
    "- What percentage of the images in `dog_files_short` have a detected dog?"
   ],
   "metadata" : {
    "collapsed" : false
   }
  },
  {
   "cell_type" : "markdown",
   "source" : [
    "__Answer:__\n",
    "- `human_files_short` - 0% detected as dog\n",
    "- `dog_files_short` - 97% detected as dog\n",
    "\n",
    "See details:"
   ],
   "metadata" : {
    "collapsed" : false
   }
  },
  {
   "cell_type" : "code",
   "execution_count" : null,
   "outputs" : [ ],
   "source" : [
    "from tqdm import tqdm\n",
    "\n",
    "human_files_short = human_files[:100]\n",
    "dog_files_short = dog_files[:100]\n",
    "\n",
    "#-#-# Do NOT modify the code above this line. #-#-#\n",
    "import sys\n",
    "\n",
    "## TODO: Test the performance of the face_detector algorithm \n",
    "## on the images in human_files_short and dog_files_short.\n",
    "\n",
    "print(\"Testing first 100 Human faces...\")\n",
    "check_detector(\"Dogs\", human_files_short, dog_detector)\n",
    "\n",
    "print(\"------------\")\n",
    "\n",
    "print(\"Testing first 100 Dog images...\")\n",
    "check_detector(\"Dogs\", dog_files_short, dog_detector)"
   ],
   "metadata" : {
    "collapsed" : false,
    "pycharm" : {
     "name" : "#%%\n"
    }
   }
  },
  {
   "cell_type" : "markdown",
   "source" : [
    "We suggest VGG-16 as a potential network to detect dog images in your algorithm, but you are free to explore other pre-trained networks (such as [Inception-v3](http://pytorch.org/docs/master/torchvision/models.html#inception-v3), [ResNet-50](http://pytorch.org/docs/master/torchvision/models.html#id3), etc).  Please use the code cell below to test other pre-trained PyTorch models.  If you decide to pursue this _optional_ task, report performance on `human_files_short` and `dog_files_short`."
   ],
   "metadata" : {
    "collapsed" : false
   }
  },
  {
   "cell_type" : "markdown",
   "source" : [
    "__Optional Question:__\n",
    "\n",
    "Report the performance of another pre-trained network.\n",
    "Feel free to use as many code cells as needed.\n",
    "\n",
    "__Answer:__\n",
    "\n",
    "* Inception-v3:\n",
    "    - `human_files_short` - 2% detected as dog\n",
    "    - `dog_files_short` - 96% detected as dog\n",
    "\n",
    "* ResNet-50:\n",
    "    - `human_files_short` - 0% detected as dog\n",
    "    - `dog_files_short` - 96% detected as dog\n"
   ],
   "metadata" : {
    "collapsed" : false
   }
  },
  {
   "cell_type" : "code",
   "execution_count" : null,
   "outputs" : [ ],
   "source" : [
    "### (Optional)\n",
    "\n",
    "import sys\n",
    "\n",
    "import torch\n",
    "import torchvision.models as models\n",
    "\n",
    "from tqdm import tqdm\n",
    "\n",
    "# define VGG16 model\n",
    "ResNet50 = models.resnet50(pretrained=True)\n",
    "Inception_v3 = models.inception_v3(pretrained=True)\n",
    "\n",
    "# check if CUDA is available\n",
    "use_cuda = torch.cuda.is_available()\n",
    "\n",
    "# data\n",
    "human_files_short = human_files[:100]\n",
    "dog_files_short = dog_files[:100]\n",
    "\n",
    "\n",
    "for model, model_name in [(ResNet50, 'ResNet50'), (Inception_v3, 'Inception_v3')]:\n",
    "# for model, model_name in [(Inception_v3, 'Inception_v3')]:\n",
    "    # move model to GPU if CUDA is available\n",
    "    if use_cuda:\n",
    "        model = model.cuda()\n",
    "    \n",
    "    model.eval()\n",
    "    print(\"Model:\", model_name)\n",
    "    \n",
    "    class_predictor_fun = lambda img_path: classification_model_predict(load_image(img_path), model)\n",
    "    detector_fun = lambda img_path: dog_detector(img_path, class_predictor_fun=class_predictor_fun)\n",
    "    \n",
    "    print(\"Testing first 100 Human faces...\")\n",
    "    check_detector(\"Dogs\", human_files_short, detector_fun)\n",
    "\n",
    "    print(\"------------\")\n",
    "\n",
    "    print(\"Testing first 100 Dog images...\")\n",
    "    check_detector(\"Dogs\", dog_files_short, detector_fun)\n",
    "    \n",
    "    print(\"#############\")"
   ],
   "metadata" : {
    "collapsed" : false,
    "pycharm" : {
     "name" : "#%%\n"
    }
   }
  },
  {
   "cell_type" : "markdown",
   "source" : [
    "---\n",
    "<a id='step3'></a>\n",
    "## Step 3: Create a CNN to Classify Dog Breeds (from Scratch)\n",
    "\n",
    "Now that we have functions for detecting humans and dogs in images, we need a way to predict breed from images.  In this step, you will create a CNN that classifies dog breeds.  You must create your CNN _from scratch_ (so, you can't use transfer learning _yet_!), and you must attain a test accuracy of at least 10%.  In Step 4 of this notebook, you will have the opportunity to use transfer learning to create a CNN that attains greatly improved accuracy.\n",
    "\n",
    "We mention that the task of assigning breed to dogs from images is considered exceptionally challenging.  To see why, consider that *even a human* would have trouble distinguishing between a Brittany and a Welsh Springer Spaniel.  \n",
    "\n",
    "Brittany | Welsh Springer Spaniel\n",
    "- | - \n",
    "<img src=\"images/Brittany_02625.jpg\" width=\"100\"> | <img src=\"images/Welsh_springer_spaniel_08203.jpg\" width=\"200\">\n",
    "\n",
    "It is not difficult to find other dog breed pairs with minimal inter-class variation (for instance, Curly-Coated Retrievers and American Water Spaniels).  \n",
    "\n",
    "Curly-Coated Retriever | American Water Spaniel\n",
    "- | -\n",
    "<img src=\"images/Curly-coated_retriever_03896.jpg\" width=\"200\"> | <img src=\"images/American_water_spaniel_00648.jpg\" width=\"200\">\n",
    "\n",
    "\n",
    "Likewise, recall that labradors come in yellow, chocolate, and black.  Your vision-based algorithm will have to conquer this high intra-class variation to determine how to classify all of these different shades as the same breed.  \n",
    "\n",
    "Yellow Labrador | Chocolate Labrador | Black Labrador\n",
    "- | -\n",
    "<img src=\"images/Labrador_retriever_06457.jpg\" width=\"150\"> | <img src=\"images/Labrador_retriever_06455.jpg\" width=\"240\"> | <img src=\"images/Labrador_retriever_06449.jpg\" width=\"220\">\n",
    "\n",
    "We also mention that random chance presents an exceptionally low bar: setting aside the fact that the classes are slightly imabalanced, a random guess will provide a correct answer roughly 1 in 133 times, which corresponds to an accuracy of less than 1%.  \n",
    "\n",
    "Remember that the practice is far ahead of the theory in deep learning.  Experiment with many different architectures, and trust your intuition.  And, of course, have fun!\n",
    "\n",
    "### (IMPLEMENTATION) Specify Data Loaders for the Dog Dataset\n",
    "\n",
    "Use the code cell below to write three separate [data loaders](http://pytorch.org/docs/stable/data.html#torch.utils.data.DataLoader) for the training, validation, and test datasets of dog images (located at `dogImages/train`, `dogImages/valid`, and `dogImages/test`, respectively).  You may find [this documentation on custom datasets](http://pytorch.org/docs/stable/torchvision/datasets.html) to be a useful resource.  If you are interested in augmenting your training and/or validation data, check out the wide variety of [transforms](http://pytorch.org/docs/stable/torchvision/transforms.html?highlight=transform)!"
   ],
   "metadata" : {
    "collapsed" : false
   }
  },
  {
   "cell_type" : "code",
   "execution_count" : null,
   "outputs" : [ ],
   "source" : [
    "import os\n",
    "\n",
    "import torch\n",
    "import torchvision.transforms as transforms\n",
    "from torchvision import datasets\n",
    "\n",
    "## Data loaders for training, validation, and test sets\n",
    "## Specify appropriate transforms, and batch_sizes\n",
    "\n",
    "\n",
    "if use_udacity_workspace:\n",
    "    data_dir = \"/data/dog_images\" # Udacity notebook\n",
    "else:\n",
    "    data_dir = \"dogImages\"    \n",
    "\n",
    "train_transforms = transforms.Compose([\n",
    "    transforms.RandomRotation(30),\n",
    "    transforms.RandomResizedCrop(224, scale=(0.8, 1.0)),\n",
    "    transforms.RandomHorizontalFlip(),\n",
    "    transforms.ToTensor(),\n",
    "    transforms.Normalize(\n",
    "        [0.485, 0.456, 0.406],\n",
    "        [0.229, 0.224, 0.225]\n",
    "    )\n",
    "])\n",
    "\n",
    "\n",
    "test_valid_transforms = transforms.Compose([\n",
    "    transforms.Resize(255),\n",
    "    transforms.CenterCrop(224),\n",
    "    transforms.ToTensor(),\n",
    "    transforms.Normalize(\n",
    "        [0.485, 0.456, 0.406],\n",
    "        [0.229, 0.224, 0.225])\n",
    "])\n",
    "\n",
    "# Pass transforms in here, then run the next cell to see how the transforms look\n",
    "data_scratch = {}\n",
    "data_scratch['train'] = datasets.ImageFolder(data_dir + '/train', transform=train_transforms)\n",
    "data_scratch['valid'] = datasets.ImageFolder(data_dir + '/valid', transform=test_valid_transforms)\n",
    "data_scratch['test'] = datasets.ImageFolder(data_dir + '/test', transform=test_valid_transforms)\n",
    "\n",
    "batch_size = 20 # 64?\n",
    "num_workers = 0\n",
    "\n",
    "loaders_scratch = {}\n",
    "loaders_scratch['train'] = torch.utils.data.DataLoader(\n",
    "    data_scratch['train'], shuffle=True,\n",
    "    batch_size=batch_size, num_workers=num_workers\n",
    ")\n",
    "loaders_scratch['valid'] = torch.utils.data.DataLoader(\n",
    "    data_scratch['valid'], shuffle=True,\n",
    "    batch_size=batch_size, num_workers=num_workers\n",
    ")\n",
    "loaders_scratch['test'] = torch.utils.data.DataLoader(\n",
    "    data_scratch['test'],\n",
    "    batch_size=batch_size, num_workers=num_workers\n",
    ")"
   ],
   "metadata" : {
    "collapsed" : false,
    "pycharm" : {
     "name" : "#%%\n"
    }
   }
  },
  {
   "cell_type" : "markdown",
   "source" : [
    "**Question 3:** Describe your chosen procedure for preprocessing the data. \n",
    "- How does your code resize the images (by cropping, stretching, etc)?  What size did you pick for the input tensor, and why?\n",
    "- Did you decide to augment the dataset?  If so, how (through translations, flips, rotations, etc)?  If not, why not?\n"
   ],
   "metadata" : {
    "collapsed" : false
   }
  },
  {
   "cell_type" : "markdown",
   "source" : [
    "**Answer**:\n",
    "Train images are randomly croped to 80-100% of its size, streched to aspect ratio 3/4..4/3, then resized to 224. Image size is 224 because it looks to work ok in ImageNet for breed classifying and also it will be easier to reuse these data loaders for transfer learning exercises. Normalization same as ImageNet. I've decedided not to do very strong crop so as not to lose some important details, like dog's head. But some crop could help to make dog a bit more independent of surrounding background.\n",
    "\n",
    "I augment dataset, allow random flip, and up to 30 degree random rotation. Dogs are often captured in different poses and by different angles, so it seems reasonable to used flip, rotation and stretching. Also we have only 6680 images in train dataset, seems not enough data compared to 14 mln images in ImageNet, so augmentation could help as less overfit."
   ],
   "metadata" : {
    "collapsed" : false
   }
  },
  {
   "cell_type" : "markdown",
   "source" : [
    "### (IMPLEMENTATION) Model Architecture\n",
    "\n",
    "Create a CNN to classify dog breed.  Use the template in the code cell below."
   ],
   "metadata" : {
    "collapsed" : false
   }
  },
  {
   "cell_type" : "markdown",
   "source" : [
    "Expect breeds number is:"
   ],
   "metadata" : {
    "collapsed" : false
   }
  },
  {
   "cell_type" : "code",
   "execution_count" : null,
   "outputs" : [ ],
   "source" : [
    "class_names = [item[4:].replace(\"_\", \" \") for item in data_scratch['train'].classes]\n",
    "breeds_number = len(class_names)\n",
    "print(\"Breeds number:\", breeds_number)"
   ],
   "metadata" : {
    "collapsed" : false,
    "pycharm" : {
     "name" : "#%%\n"
    }
   }
  },
  {
   "cell_type" : "markdown",
   "source" : [
    "Model"
   ],
   "metadata" : {
    "collapsed" : false
   }
  },
  {
   "cell_type" : "code",
   "execution_count" : null,
   "outputs" : [ ],
   "source" : [
    "import torch\n",
    "\n",
    "use_cuda = torch.cuda.is_available()\n",
    "if not use_cuda:\n",
    "    print('CUDA is not available.  Training on CPU ...')\n",
    "    device='cpu'\n",
    "else:\n",
    "    print('CUDA is available!  Training on GPU ...')\n",
    "    device='cuda'"
   ],
   "metadata" : {
    "collapsed" : false,
    "pycharm" : {
     "name" : "#%%\n"
    }
   }
  },
  {
   "cell_type" : "code",
   "execution_count" : null,
   "outputs" : [ ],
   "source" : [
    "class Flatten(torch.nn.Module):\n",
    "    def forward(self, x):\n",
    "        batch_size = x.shape[0]\n",
    "        return x.view(batch_size, -1)"
   ],
   "metadata" : {
    "collapsed" : false,
    "pycharm" : {
     "name" : "#%%\n"
    }
   }
  },
  {
   "cell_type" : "code",
   "execution_count" : null,
   "outputs" : [ ],
   "source" : [
    "import torch.nn as nn\n",
    "import torch.nn.functional as F\n",
    "\n",
    "model_scratch = None\n",
    "\n",
    "# define the CNN architecture\n",
    "class Net(nn.Module):\n",
    "    \n",
    "    def __init__(self):\n",
    "        super(Net, self).__init__()\n",
    "        \n",
    "        ## Define layers of a CNN\n",
    "        self.features = nn.Sequential(\n",
    "            # cov_1\n",
    "            nn.Conv2d(3, 16, kernel_size=3, stride=1, padding=1),\n",
    "            nn.ReLU(inplace=True),\n",
    "\n",
    "            # 224x224 -> 112 x 112\n",
    "            nn.MaxPool2d(kernel_size=2, stride=2),\n",
    "            \n",
    "            # cov_2\n",
    "            nn.Conv2d(16, 32, kernel_size=3, stride=1, padding=1),\n",
    "            nn.ReLU(inplace=True),\n",
    "\n",
    "            # 112x112 -> 56x56\n",
    "            nn.MaxPool2d(kernel_size=2, stride=2),\n",
    "            \n",
    "            # cov_3\n",
    "            nn.Conv2d(32, 64, kernel_size=3, stride=1, padding=1),\n",
    "            nn.ReLU(inplace=True),\n",
    "\n",
    "            # 56x56 -> 28x28\n",
    "            nn.MaxPool2d(kernel_size=2, stride=2),\n",
    "            nn.ReLU(inplace=True),\n",
    "            \n",
    "            #nn.AdaptiveAvgPool2d(7)\n",
    "        )\n",
    "        \n",
    "        n_inputs = 64 * 28 * 28\n",
    "        # n_inputs = 64 * 7 * 7\n",
    "        self.classifier =  nn.Sequential(\n",
    "            nn.Linear(n_inputs, 1024),\n",
    "            nn.ReLU(),\n",
    "            nn.Dropout(0.2),\n",
    "            nn.Linear(1024, 133),\n",
    "        )      \n",
    "    \n",
    "    def forward(self, x):\n",
    "        ## Define forward behavior\n",
    "        x = self.features.forward(x)\n",
    "        \n",
    "        x = Flatten().forward(x)\n",
    "        x = self.classifier.forward(x)\n",
    "        return x\n",
    "\n",
    "#-#-# You do NOT have to modify the code below this line. #-#-#\n",
    "\n",
    "# instantiate the CNN\n",
    "model_scratch = Net()\n",
    "\n",
    "# move tensors to GPU if CUDA is available\n",
    "if use_cuda:\n",
    "    model_scratch.cuda()"
   ],
   "metadata" : {
    "collapsed" : false,
    "pycharm" : {
     "name" : "#%%\n"
    }
   }
  },
  {
   "cell_type" : "markdown",
   "source" : [
    "__Question 4:__ Outline the steps you took to get to your final CNN architecture and your reasoning at each step.  "
   ],
   "metadata" : {
    "collapsed" : false
   }
  },
  {
   "cell_type" : "markdown",
   "source" : [
    "__Answer:__ \n",
    "* Reduced number of layers. I started with smth close to VGG16 but there were not enough RAM to init a model. Also we have ~7k dog images, not enough data to train large network, model will overfit. Also I tried model with 2 conv layers before each max pooling layer, but it showed comparable validation error.\n",
    "\n",
    "* Removed AdaptiveAvgPool2d(7) layer: Without it I get better validation error, so I decided not to use it although many deep models seems to use it. Seems my model isn't deep enough for benifit from it.\n",
    "\n",
    "* Tried different learning rates near 0.01. Decided to use 0.03 - it allows to get required accuracy and works faster than 0.01. Here is a large field to play with params, seems I don't have enough time before deadline and limited GPU time for course, so I decided to stop with some working solution.\n",
    "\n",
    "* Current solution has the best validation error near 15 epoch, than validation error increses, test error continue decresing. So I limited with max 20 epoch, just too make the trend noticeable.\n"
   ],
   "metadata" : {
    "collapsed" : false
   }
  },
  {
   "cell_type" : "markdown",
   "source" : [
    "### (IMPLEMENTATION) Specify Loss Function and Optimizer\n",
    "\n",
    "Use the next code cell to specify a [loss function](http://pytorch.org/docs/stable/nn.html#loss-functions) and [optimizer](http://pytorch.org/docs/stable/optim.html).  Save the chosen loss function as `criterion_scratch`, and the optimizer as `optimizer_scratch` below."
   ],
   "metadata" : {
    "collapsed" : false
   }
  },
  {
   "cell_type" : "code",
   "execution_count" : null,
   "outputs" : [ ],
   "source" : [
    "import torch.optim as optim\n",
    "\n",
    "### TODO: select loss function\n",
    "criterion_scratch = nn.CrossEntropyLoss()\n",
    "\n",
    "### TODO: select optimizer\n",
    "# optimizer_scratch = optim.SGD(model_scratch.parameters(), lr=0.01)\n",
    "optimizer_scratch = optim.SGD(model_scratch.parameters(), lr=0.03)"
   ],
   "metadata" : {
    "collapsed" : false,
    "pycharm" : {
     "name" : "#%%\n"
    }
   }
  },
  {
   "cell_type" : "markdown",
   "source" : [
    "### (IMPLEMENTATION) Train and Validate the Model\n",
    "\n",
    "Train and validate your model in the code cell below.  [Save the final model parameters](http://pytorch.org/docs/master/notes/serialization.html) at filepath `'model_scratch.pt'`."
   ],
   "metadata" : {
    "collapsed" : false
   }
  },
  {
   "cell_type" : "code",
   "execution_count" : null,
   "outputs" : [ ],
   "source" : [
    "import os\n",
    "\n",
    "if use_udacity_workspace:\n",
    "    if not os.path.exists(\"workspace_utils.py\"):\n",
    "        !wget https://s3.amazonaws.com/video.udacity-data.com/topher/2018/May/5b06f6c2_workspace-utils/workspace-utils.py\n",
    "        !mv workspace-utils.py workspace_utils.py\n",
    "\n",
    "    from workspace_utils import active_session\n",
    "    print(\"Force notebook workspace session active.\")\n",
    "else:\n",
    "    print(\"Local notebook mode.\")\n",
    "        \n",
    "    from contextlib import contextmanager\n",
    "\n",
    "    # Fake context manager just to have same impl for model training process\n",
    "    @contextmanager\n",
    "    def active_session(*args, **kwds):\n",
    "        yield"
   ],
   "metadata" : {
    "collapsed" : false,
    "pycharm" : {
     "name" : "#%%\n"
    }
   }
  },
  {
   "cell_type" : "code",
   "execution_count" : null,
   "outputs" : [ ],
   "source" : [
    "# Continue previous training: load model as default values:\n",
    "# model_scratch.load_state_dict(torch.load('model_scratch.pt'))"
   ],
   "metadata" : {
    "collapsed" : false,
    "pycharm" : {
     "name" : "#%%\n"
    }
   }
  },
  {
   "cell_type" : "code",
   "execution_count" : null,
   "outputs" : [ ],
   "source" : [
    "import numpy as np\n",
    "\n",
    "# the following import is required for training to be robust to truncated images\n",
    "from PIL import ImageFile\n",
    "ImageFile.LOAD_TRUNCATED_IMAGES = True\n",
    "\n",
    "def train(n_epochs, loaders, model, optimizer, criterion, use_cuda, save_path):\n",
    "    \"\"\"returns trained model\"\"\"\n",
    "    # initialize tracker for minimum validation loss\n",
    "    valid_loss_min = np.Inf \n",
    "    \n",
    "    for epoch in range(1, n_epochs+1):\n",
    "        # initialize variables to monitor training and validation loss\n",
    "        train_loss = 0.0\n",
    "        valid_loss = 0.0\n",
    "        \n",
    "        ###################\n",
    "        # train the model #\n",
    "        ###################\n",
    "        model.train()\n",
    "        for batch_idx, (data, target) in enumerate(loaders['train']):\n",
    "            # move to GPU\n",
    "            if use_cuda:\n",
    "                data, target = data.cuda(), target.cuda()\n",
    "            \n",
    "            \n",
    "            ## find the loss and update the model parameters accordingly\n",
    "            optimizer.zero_grad()\n",
    "            output = model(data)\n",
    "            loss = criterion(output, target)\n",
    "            loss.backward()\n",
    "            optimizer.step()\n",
    "            \n",
    "            ## record the average training loss, using something like\n",
    "            train_loss = train_loss + ((1 / (batch_idx + 1)) * (loss.data - train_loss))\n",
    "            \n",
    "        ######################    \n",
    "        # validate the model #\n",
    "        ######################\n",
    "        model.eval()\n",
    "        for batch_idx, (data, target) in enumerate(loaders['valid']):\n",
    "            # move to GPU\n",
    "            if use_cuda:\n",
    "                data, target = data.cuda(), target.cuda()\n",
    "                \n",
    "            ## update the average validation loss\n",
    "            output = model(data)\n",
    "            loss = criterion(output, target)\n",
    "            valid_loss = valid_loss + ((1 / (batch_idx + 1)) * (loss.data - valid_loss))\n",
    "            \n",
    "        # print training/validation statistics \n",
    "        print('Epoch: {} \\tTraining Loss: {:.6f} \\tValidation Loss: {:.6f}'.format(\n",
    "            epoch, \n",
    "            train_loss,\n",
    "            valid_loss\n",
    "            ))\n",
    "        \n",
    "        ## save the model if validation loss has decreased\n",
    "        if valid_loss < valid_loss_min:\n",
    "            print(f'Validation loss decreased ({valid_loss_min:.6f} --> {valid_loss:.6f}).  Saving model ...')\n",
    "            valid_loss_min = valid_loss\n",
    "            torch.save(model.state_dict(), save_path)\n",
    "            \n",
    "    # return trained model\n",
    "    return model"
   ],
   "metadata" : {
    "collapsed" : false,
    "pycharm" : {
     "name" : "#%%\n"
    }
   }
  },
  {
   "cell_type" : "code",
   "execution_count" : null,
   "outputs" : [ ],
   "source" : [
    "model_scratch_path = 'model_scratch_conf3.1_lr0.03.pt'"
   ],
   "metadata" : {
    "collapsed" : false,
    "pycharm" : {
     "name" : "#%%\n"
    }
   }
  },
  {
   "cell_type" : "code",
   "execution_count" : null,
   "outputs" : [ ],
   "source" : [
    "# train the model\n",
    "model_scratch_epochs = 20\n",
    "with active_session():\n",
    "    model_scratch = train(\n",
    "        model_scratch_epochs, loaders_scratch, model_scratch, optimizer_scratch, \n",
    "        criterion_scratch, use_cuda, model_scratch_path\n",
    "    )\n"
   ],
   "metadata" : {
    "collapsed" : false,
    "pycharm" : {
     "name" : "#%%\n"
    }
   }
  },
  {
   "cell_type" : "code",
   "execution_count" : null,
   "outputs" : [ ],
   "source" : [
    "# load the model that got the best validation accuracy\n",
    "map_kw = dict() if use_cuda else dict(map_location=torch.device('cpu'))\n",
    "model_scratch.load_state_dict(torch.load(\"additional_files/\" + model_scratch_path, **map_kw))\n",
    "# model_scratch.load_state_dict(torch.load(model_scratch_path, **map_kw))"
   ],
   "metadata" : {
    "collapsed" : false,
    "pycharm" : {
     "name" : "#%%\n"
    }
   }
  },
  {
   "cell_type" : "markdown",
   "source" : [
    "### (IMPLEMENTATION) Test the Model\n",
    "\n",
    "Try out your model on the test dataset of dog images.  Use the code cell below to calculate and print the test loss and accuracy.  Ensure that your test accuracy is greater than 10%."
   ],
   "metadata" : {
    "collapsed" : false
   }
  },
  {
   "cell_type" : "code",
   "execution_count" : null,
   "outputs" : [ ],
   "source" : [
    "def test(loaders, model, criterion, use_cuda):\n",
    "\n",
    "    # monitor test loss and accuracy\n",
    "    test_loss = 0.\n",
    "    correct = 0.\n",
    "    total = 0.\n",
    "\n",
    "    model.eval()\n",
    "    for batch_idx, (data, target) in enumerate(loaders['test']):\n",
    "        # move to GPU\n",
    "        if use_cuda:\n",
    "            data, target = data.cuda(), target.cuda()\n",
    "        # forward pass: compute predicted outputs by passing inputs to the model\n",
    "        output = model(data)\n",
    "        # calculate the loss\n",
    "        loss = criterion(output, target)\n",
    "        # update average test loss \n",
    "        test_loss = test_loss + ((1 / (batch_idx + 1)) * (loss.data - test_loss))\n",
    "        # convert output probabilities to predicted class\n",
    "        pred = output.data.max(1, keepdim=True)[1]\n",
    "        # compare predictions to true label\n",
    "        correct += np.sum(np.squeeze(pred.eq(target.data.view_as(pred))).cpu().numpy())\n",
    "        total += data.size(0)\n",
    "            \n",
    "    print('Test Loss: {:.6f}\\n'.format(test_loss))\n",
    "\n",
    "    print('\\nTest Accuracy: %2d%% (%2d/%2d)' % (\n",
    "        100. * correct / total, correct, total))"
   ],
   "metadata" : {
    "collapsed" : false,
    "pycharm" : {
     "name" : "#%%\n"
    }
   }
  },
  {
   "cell_type" : "code",
   "execution_count" : null,
   "outputs" : [ ],
   "source" : [
    "# call test function    \n",
    "test(loaders_scratch, model_scratch, criterion_scratch, use_cuda)"
   ],
   "metadata" : {
    "collapsed" : false,
    "pycharm" : {
     "name" : "#%%\n"
    }
   }
  },
  {
   "cell_type" : "markdown",
   "source" : [
    "---\n",
    "<a id='step4'></a>\n",
    "## Step 4: Create a CNN to Classify Dog Breeds (using Transfer Learning)\n",
    "\n",
    "You will now use transfer learning to create a CNN that can identify dog breed from images.  Your CNN must attain at least 60% accuracy on the test set.\n",
    "\n",
    "### (IMPLEMENTATION) Specify Data Loaders for the Dog Dataset\n",
    "\n",
    "Use the code cell below to write three separate [data loaders](http://pytorch.org/docs/master/data.html#torch.utils.data.DataLoader) for the training, validation, and test datasets of dog images (located at `dogImages/train`, `dogImages/valid`, and `dogImages/test`, respectively). \n",
    "\n",
    "If you like, **you are welcome to use the same data loaders from the previous step**, when you created a CNN from scratch."
   ],
   "metadata" : {
    "collapsed" : false
   }
  },
  {
   "cell_type" : "code",
   "execution_count" : null,
   "outputs" : [ ],
   "source" : [
    "## Specify data loaders\n",
    "data_transfer = data_scratch\n",
    "loaders_transfer = loaders_scratch\n",
    "\n",
    "class_names = [item[4:].replace(\"_\", \" \") for item in data_transfer['train'].classes]\n",
    "breeds_number = len(class_names)\n",
    "print(\"Breeds number:\", breeds_number)"
   ],
   "metadata" : {
    "collapsed" : false,
    "pycharm" : {
     "name" : "#%%\n"
    }
   }
  },
  {
   "cell_type" : "markdown",
   "source" : [
    "### (IMPLEMENTATION) Model Architecture\n",
    "\n",
    "Use transfer learning to create a CNN to classify dog breed.  Use the code cell below, and save your initialized model as the variable `model_transfer`."
   ],
   "metadata" : {
    "collapsed" : false
   }
  },
  {
   "cell_type" : "code",
   "execution_count" : null,
   "outputs" : [ ],
   "source" : [
    "import torch\n",
    "import torchvision.models as models\n",
    "import torch.nn as nn\n",
    "\n",
    "## TODO: Specify model architecture \n",
    "\n",
    "\n",
    "# define VGG16 model\n",
    "model_transfer = models.vgg16(pretrained=True).to(device)\n",
    "\n",
    "# Freeze training for all \"features\" layers\n",
    "for param in model_transfer.features.parameters():\n",
    "    param.requires_grad = False\n",
    "    \n",
    "    \n",
    "n_inputs = model_transfer.classifier[6].in_features\n",
    "model_transfer.classifier[6] = nn.Sequential(\n",
    "    nn.Linear(n_inputs, 512),\n",
    "    nn.ReLU(),\n",
    "    nn.Dropout(0.2),\n",
    "    nn.Linear(512, breeds_number),\n",
    ")\n",
    "    \n",
    "if use_cuda:\n",
    "    model_transfer = model_transfer.cuda()"
   ],
   "metadata" : {
    "collapsed" : false,
    "pycharm" : {
     "name" : "#%%\n"
    }
   }
  },
  {
   "cell_type" : "code",
   "execution_count" : null,
   "outputs" : [ ],
   "source" : [
    "print(model_transfer)"
   ],
   "metadata" : {
    "collapsed" : false,
    "pycharm" : {
     "name" : "#%%\n"
    }
   }
  },
  {
   "cell_type" : "markdown",
   "source" : [
    "__Question 5:__ Outline the steps you took to get to your final CNN architecture and your reasoning at each step.  Describe why you think the architecture is suitable for the current problem."
   ],
   "metadata" : {
    "collapsed" : false
   }
  },
  {
   "cell_type" : "markdown",
   "source" : [
    "__Answer:__ \n",
    "* I replaced last layer of VGG16 classifier with 2 fully connected layers which reduces 4096 features to 512 and than to 133 breads numbers. Also I use Dropout for faster network training and less overfitting. This network provides required accuracy. \n",
    "* Most likely we could simplify the network even more and use less layers in whole classifier, but I don't have enough time to play with it."
   ],
   "metadata" : {
    "collapsed" : false
   }
  },
  {
   "cell_type" : "markdown",
   "source" : [
    "### (IMPLEMENTATION) Specify Loss Function and Optimizer\n",
    "\n",
    "Use the next code cell to specify a [loss function](http://pytorch.org/docs/master/nn.html#loss-functions) and [optimizer](http://pytorch.org/docs/master/optim.html).  Save the chosen loss function as `criterion_transfer`, and the optimizer as `optimizer_transfer` below."
   ],
   "metadata" : {
    "collapsed" : false
   }
  },
  {
   "cell_type" : "code",
   "execution_count" : null,
   "outputs" : [ ],
   "source" : [
    "import torch.optim as optim\n",
    "\n",
    "criterion_transfer = nn.CrossEntropyLoss()\n",
    "optimizer_transfer = optim.SGD(model_transfer.classifier.parameters(), lr=0.01)"
   ],
   "metadata" : {
    "collapsed" : false,
    "pycharm" : {
     "name" : "#%%\n"
    }
   }
  },
  {
   "cell_type" : "markdown",
   "source" : [
    "### (IMPLEMENTATION) Train and Validate the Model\n",
    "\n",
    "Train and validate your model in the code cell below.  [Save the final model parameters](http://pytorch.org/docs/master/notes/serialization.html) at filepath `'model_transfer.pt'`."
   ],
   "metadata" : {
    "collapsed" : false
   }
  },
  {
   "cell_type" : "code",
   "execution_count" : null,
   "outputs" : [ ],
   "source" : [
    "model_transfer_path = \"model_transfer.pt\""
   ],
   "metadata" : {
    "collapsed" : false,
    "pycharm" : {
     "name" : "#%%\n"
    }
   }
  },
  {
   "cell_type" : "code",
   "execution_count" : null,
   "outputs" : [ ],
   "source" : [
    "model_transfer_epochs = 20\n",
    "\n",
    "# train the model\n",
    "with active_session():\n",
    "    model_transfer = train(\n",
    "        model_transfer_epochs, loaders_transfer, model_transfer,\n",
    "        optimizer_transfer, criterion_transfer, use_cuda, \n",
    "        model_transfer_path\n",
    "    )"
   ],
   "metadata" : {
    "collapsed" : false,
    "pycharm" : {
     "name" : "#%%\n"
    }
   }
  },
  {
   "cell_type" : "markdown",
   "source" : [
    "Model serialization size is 520 MB, seems I'm not allowed to submit it becase there is requirement to submit no more then 500 MB uncompressed."
   ],
   "metadata" : {
    "collapsed" : false
   }
  },
  {
   "cell_type" : "code",
   "execution_count" : null,
   "outputs" : [ ],
   "source" : [
    "# load the model that got the best validation accuracy\n",
    "map_kw = dict() if use_cuda else dict(map_location=torch.device('cpu'))\n",
    "model_transfer.load_state_dict(torch.load(\"additional_files/\" + model_transfer_path, **map_kw))\n",
    "# model_scratch.load_state_dict(torch.load(model_transfer_path, **map_kw))"
   ],
   "metadata" : {
    "collapsed" : false,
    "pycharm" : {
     "name" : "#%%\n"
    }
   }
  },
  {
   "cell_type" : "markdown",
   "source" : [
    "### (IMPLEMENTATION) Test the Model\n",
    "\n",
    "Try out your model on the test dataset of dog images. Use the code cell below to calculate and print the test loss and accuracy.  Ensure that your test accuracy is greater than 60%."
   ],
   "metadata" : {
    "collapsed" : false
   }
  },
  {
   "cell_type" : "code",
   "execution_count" : null,
   "outputs" : [ ],
   "source" : [
    "test(loaders_transfer, model_transfer, criterion_transfer, use_cuda)"
   ],
   "metadata" : {
    "collapsed" : false,
    "pycharm" : {
     "name" : "#%%\n"
    }
   }
  },
  {
   "cell_type" : "markdown",
   "source" : [
    "### (IMPLEMENTATION) Predict Dog Breed with the Model\n",
    "\n",
    "Write a function that takes an image path as input and returns the dog breed (`Affenpinscher`, `Afghan hound`, etc) that is predicted by your model.  "
   ],
   "metadata" : {
    "collapsed" : false
   }
  },
  {
   "cell_type" : "code",
   "execution_count" : null,
   "outputs" : [ ],
   "source" : [
    "### TODO: Write a function that takes a path to an image as input\n",
    "### and returns the dog breed that is predicted by the model.\n",
    "\n",
    "# list of class names by index, i.e. a name can be accessed like class_names[0]\n",
    "class_names = [item[4:].replace(\"_\", \" \") for item in data_transfer['train'].classes]\n",
    "print(\"Dog breeds:\", len(class_names))\n",
    "    \n",
    "def predict_breed_transfer(img_path):\n",
    "    # load the image and return the predicted breed\n",
    "    \n",
    "    image = load_image(img_path)\n",
    "    breed_cls = classification_model_predict(image, model_transfer)\n",
    "    return class_names[breed_cls]"
   ],
   "metadata" : {
    "collapsed" : false,
    "pycharm" : {
     "name" : "#%%\n"
    }
   }
  },
  {
   "cell_type" : "markdown",
   "source" : [
    "---\n",
    "<a id='step5'></a>\n",
    "## Step 5: Write your Algorithm\n",
    "\n",
    "Write an algorithm that accepts a file path to an image and first determines whether the image contains a human, dog, or neither.  Then,\n",
    "- if a __dog__ is detected in the image, return the predicted breed.\n",
    "- if a __human__ is detected in the image, return the resembling dog breed.\n",
    "- if __neither__ is detected in the image, provide output that indicates an error.\n",
    "\n",
    "You are welcome to write your own functions for detecting humans and dogs in images, but feel free to use the `face_detector` and `dog_detector` functions developed above.  You are __required__ to use your CNN from Step 4 to predict dog breed.  \n",
    "\n",
    "Some sample output for our algorithm is provided below, but feel free to design your own user experience!\n",
    "\n",
    "![Sample Human Output](images/sample_human_output.png)\n",
    "\n",
    "\n",
    "### (IMPLEMENTATION) Write your Algorithm"
   ],
   "metadata" : {
    "collapsed" : false
   }
  },
  {
   "cell_type" : "code",
   "execution_count" : null,
   "outputs" : [ ],
   "source" : [
    "### TODO: Write your algorithm.\n",
    "### Feel free to use as many code cells as needed.\n",
    "\n",
    "def run_app(img_path):\n",
    "    dog = dog_detector(img_path)\n",
    "    human_face = face_detector(img_path)\n",
    "    \n",
    "    ## handle cases for a human face, dog, and neither\n",
    "    # Our human face detector isn't very accurate, so if recognized by human and dog detector, \n",
    "    # let's assume the it is a dog\n",
    "\n",
    "    plt.imshow(im_convert(load_image(img_path)))\n",
    "    plt.show()\n",
    "    \n",
    "    if dog:\n",
    "        print(\"Hello, dog!\")\n",
    "        print(\"Your predicted breed is...\")\n",
    "        # detect breed\n",
    "        breed = predict_breed_transfer(img_path)\n",
    "    elif human_face:\n",
    "        print(\"Hello, human!\")\n",
    "        print(\"You look like a...\")\n",
    "        # detect only for face ?\n",
    "        breed = predict_breed_transfer(img_path)\n",
    "    else:\n",
    "        breed = None\n",
    "    \n",
    "    if breed:\n",
    "        print(breed)\n",
    "    else:\n",
    "        print(\"Error: Seems your image doesn't contain human face or a dog. Maybe it is a cat.\")"
   ],
   "metadata" : {
    "collapsed" : false,
    "pycharm" : {
     "name" : "#%%\n"
    }
   }
  },
  {
   "cell_type" : "markdown",
   "source" : [
    "---\n",
    "<a id='step6'></a>\n",
    "## Step 6: Test Your Algorithm\n",
    "\n",
    "In this section, you will take your new algorithm for a spin!  What kind of dog does the algorithm think that _you_ look like?  If you have a dog, does it predict your dog's breed accurately?  If you have a cat, does it mistakenly think that your cat is a dog?\n",
    "\n",
    "### (IMPLEMENTATION) Test Your Algorithm on Sample Images!\n",
    "\n",
    "Test your algorithm at least six images on your computer.  Feel free to use any images you like.  Use at least two human and two dog images.  \n",
    "\n",
    "\n",
    "__Question 6:__ Is the output better than you expected :) ?  Or worse :( ?  Provide at least three possible points of improvement for your algorithm.\n",
    "\n",
    "__Answer:__ (Three possible points for improvement)"
   ],
   "metadata" : {
    "collapsed" : false
   }
  },
  {
   "cell_type" : "markdown",
   "source" : [
    "Face detector doesn't work good enough, seems high false positive rate. \n",
    "* We could use OpenCv face detector as fast check and then ensure that human is on the image using slower and more accurate detector, e.g. based on some deep learning model.\n",
    "\n",
    "For the same dogs I can easily get different breeds. Breeds indeed looks similar, our train dataset isn't big enough. \n",
    "* We could use bigger breed dataset, included images of same dog made from different sides / angles\n",
    "* Dog image contains lot's of dog unrelate details, we could use some dog detector alg to locolaize part of the image with dog and then crop it\n",
    "\n",
    "Breed for humans looks almost random, altough it could get some breed specific pattern from cloths (see my Dalmatine example). \n",
    "* I assume is better to crop image to human face only using face detector. It's easy to implement because our face etector reports bounds of face, but I don't have enough time to play with it right now. I believe using face region only will return more expected results compared to current baseline impl.\n",
    "\n",
    "Also:\n",
    "* We could use better augmentation for our dog detector model, likely results will be better at least for dogs detection. \n",
    "* Image could contain both human and dog, so alg that detects dog/human borders and crops image to it will work better than processing the whole image"
   ],
   "metadata" : {
    "collapsed" : false
   }
  },
  {
   "cell_type" : "code",
   "execution_count" : null,
   "outputs" : [ ],
   "source" : [
    "## TODO: Execute your algorithm from Step 6 on\n",
    "## at least 6 images on your computer.\n",
    "## Feel free to use as many code cells as needed."
   ],
   "metadata" : {
    "collapsed" : false,
    "pycharm" : {
     "name" : "#%%\n"
    }
   }
  },
  {
   "cell_type" : "code",
   "execution_count" : null,
   "outputs" : [ ],
   "source" : [
    "for path in [\n",
    "    \"additional_files/dog1.1.jpg\",\n",
    "    \"additional_files/dog1.2.jpg\",\n",
    "    \"additional_files/dog1.3.jpg\",\n",
    "    \"additional_files/dog2.jpg\",\n",
    "    \"additional_files/human1.jpg\",\n",
    "    \"additional_files/human2.jpg\",\n",
    "    \"additional_files/other1.jpg\",\n",
    "    \"additional_files/other2.jpg\",\n",
    "    \"additional_files/other3.jpg\",\n",
    "    \"additional_files/other4.jpg\",\n",
    "    \"additional_files/other5.jpg\",\n",
    "]:\n",
    "    run_app(path)\n",
    "    print(\"------------\")"
   ],
   "metadata" : {
    "collapsed" : false,
    "pycharm" : {
     "name" : "#%%\n"
    }
   }
  },
  {
   "cell_type" : "markdown",
   "source" : [
    "Let's check where face detector detected faces in images which should be neither dog nor human: "
   ],
   "metadata" : {
    "collapsed" : false
   }
  },
  {
   "cell_type" : "code",
   "execution_count" : null,
   "outputs" : [ ],
   "source" : [
    "for path in [\n",
    "    \"additional_files/other1.jpg\",\n",
    "    \"additional_files/other2.jpg\",\n",
    "    \"additional_files/other3.jpg\",\n",
    "    \"additional_files/other4.jpg\",\n",
    "    \"additional_files/other5.jpg\",\n",
    "]:\n",
    "    plt.figure(figsize=(8,8))\n",
    "    highlight_faces(path)\n",
    "    print(\"------------\")"
   ],
   "metadata" : {
    "collapsed" : false,
    "pycharm" : {
     "name" : "#%%\n"
    }
   }
  }
 ],
 "metadata" : {
  "anaconda-cloud" : { },
  "kernelspec" : {
   "display_name" : "Python 3",
   "language" : "python",
   "name" : "python3"
  },
  "language_info" : {
   "codemirror_mode" : {
    "name" : "ipython",
    "version" : 3
   },
   "file_extension" : ".py",
   "mimetype" : "text/x-python",
   "name" : "python",
   "nbconvert_exporter" : "python",
   "pygments_lexer" : "ipython3",
   "version" : "3.8.1"
  },
  "toc" : {
   "base_numbering" : 1,
   "nav_menu" : { },
   "number_sections" : true,
   "sideBar" : true,
   "skip_h1_title" : false,
   "title_cell" : "Table of Contents",
   "title_sidebar" : "Contents",
   "toc_cell" : false,
   "toc_position" : { },
   "toc_section_display" : true,
   "toc_window_display" : false
  },
  "varInspector" : {
   "cols" : {
    "lenName" : 16,
    "lenType" : 16,
    "lenVar" : 40
   },
   "kernels_config" : {
    "python" : {
     "delete_cmd_postfix" : "",
     "delete_cmd_prefix" : "del ",
     "library" : "var_list.py",
     "varRefreshCmd" : "print(var_dic_list())"
    },
    "r" : {
     "delete_cmd_postfix" : ") ",
     "delete_cmd_prefix" : "rm(",
     "library" : "var_list.r",
     "varRefreshCmd" : "cat(var_dic_list()) "
    }
   },
   "types_to_exclude" : [
    "module",
    "function",
    "builtin_function_or_method",
    "instance",
    "_Feature"
   ],
   "window_display" : false
  },
  "pycharm" : {
   "stem_cell" : {
    "cell_type" : "raw",
    "source" : [ ],
    "metadata" : {
     "collapsed" : false
    }
   }
  }
 },
 "nbformat" : 4,
 "nbformat_minor" : 1
}
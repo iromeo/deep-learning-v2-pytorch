{
 "cells": [
  {
   "cell_type": "code",
   "metadata": {
    "pycharm": {
     "name": "#%%  we'll be building a generative adversarial network (GAN) trained on the MNIST dataset. From this, we'll be able to generate new handwritten digits!\n"
    }
   },
   "source": [
    "\n",
    "GANs were [first reported on](https://arxiv.org/abs/1406.2661) in 2014 from Ian Goodfellow and others in Yoshua Bengio's lab. Since then, GANs have exploded in popularity. Here are a few examples to check out:\n",
    "\n",
    "* [Pix2Pix](https://affinelayer.com/pixsrv/) \n",
    "* [CycleGAN & Pix2Pix in PyTorch, Jun-Yan Zhu](https://github.com/junyanz/pytorch-CycleGAN-and-pix2pix)\n",
    "* [A list of generative models](https://github.com/wiseodd/generative-models)\n",
    "\n",
    "The idea behind GANs is that you have two networks, a generator $G$ and a discriminator $D$, competing against each other. The generator makes \"fake\" data to pass to the discriminator. The discriminator also sees real training data and predicts if the data it's received is real or fake. \n",
    "> * The generator is trained to fool the discriminator, it wants to output data that looks _as close as possible_ to real, training data. \n",
    "* The discriminator is a classifier that is trained to figure out which data is real and which is fake. \n",
    "\n",
    "What ends up happening is that the generator learns to make data that is indistinguishable from real data to the discriminator.\n",
    "\n",
    "<img src='assets/gan_pipeline.png' width=70% />\n",
    "\n",
    "The general structure of a GAN is shown in the diagram above, using MNIST images as data. The latent sample is a random vector that the generator uses to construct its fake images. This is often called a **latent vector** and that vector space is called **latent space**. As the generator trains, it figures out how to map latent vectors to recognizable images that can fool the discriminator.\n",
    "\n",
    "If you're interested in generating only new images, you can throw out the discriminator after training. In this notebook, I'll show you how to define and train these adversarial networks in PyTorch and generate new images!"
   ],
   "execution_count": null,
   "outputs": []
  },
  {
   "cell_type": "code",
   "execution_count": 1,
   "metadata": {},
   "outputs": [],
   "source": [
    "%matplotlib inline\n",
    "\n",
    "import numpy as np\n",
    "import torch\n",
    "import matplotlib.pyplot as plt"
   ]
  },
  {
   "cell_type": "code",
   "execution_count": 2,
   "metadata": {},
   "outputs": [
    {
     "name": "stdout",
     "output_type": "stream",
     "text": [
      "Downloading http://yann.lecun.com/exdb/mnist/train-images-idx3-ubyte.gz to data/MNIST/raw/train-images-idx3-ubyte.gz\n",
      "Extracting data/MNIST/raw/train-images-idx3-ubyte.gz to data/MNIST/raw\n",
      "Downloading http://yann.lecun.com/exdb/mnist/train-labels-idx1-ubyte.gz to data/MNIST/raw/train-labels-idx1-ubyte.gz\n",
      "Extracting data/MNIST/raw/train-labels-idx1-ubyte.gz to data/MNIST/raw\n",
      "Downloading http://yann.lecun.com/exdb/mnist/t10k-images-idx3-ubyte.gz to data/MNIST/raw/t10k-images-idx3-ubyte.gz\n",
      "Extracting data/MNIST/raw/t10k-images-idx3-ubyte.gz to data/MNIST/raw\n",
      "Downloading http://yann.lecun.com/exdb/mnist/t10k-labels-idx1-ubyte.gz to data/MNIST/raw/t10k-labels-idx1-ubyte.gz\n",
      "Extracting data/MNIST/raw/t10k-labels-idx1-ubyte.gz to data/MNIST/raw\n",
      "Processing...\n",
      "Done!\n"
     ]
    },
    {
     "data": {
      "text/plain": "HBox(children=(FloatProgress(value=1.0, bar_style='info', max=1.0), HTML(value='')))",
      "application/vnd.jupyter.widget-view+json": {
       "version_major": 2,
       "version_minor": 0,
       "model_id": "abb6cab96ff243e2a4a0ea32800d4d7f"
      }
     },
     "metadata": {},
     "output_type": "display_data"
    },
    {
     "data": {
      "text/plain": "HBox(children=(FloatProgress(value=1.0, bar_style='info', max=1.0), HTML(value='')))",
      "application/vnd.jupyter.widget-view+json": {
       "version_major": 2,
       "version_minor": 0,
       "model_id": "68f11c934b5c4cb986c18d5b07081661"
      }
     },
     "metadata": {},
     "output_type": "display_data"
    },
    {
     "data": {
      "text/plain": "HBox(children=(FloatProgress(value=1.0, bar_style='info', max=1.0), HTML(value='')))",
      "application/vnd.jupyter.widget-view+json": {
       "version_major": 2,
       "version_minor": 0,
       "model_id": "6f195f3b79974d11a32d2a2e14c21931"
      }
     },
     "metadata": {},
     "output_type": "display_data"
    },
    {
     "data": {
      "text/plain": "HBox(children=(FloatProgress(value=1.0, bar_style='info', max=1.0), HTML(value='')))",
      "application/vnd.jupyter.widget-view+json": {
       "version_major": 2,
       "version_minor": 0,
       "model_id": "7a66075183394cd6b100d6dd7fd25dcb"
      }
     },
     "metadata": {},
     "output_type": "display_data"
    }
   ],
   "source": [
    "from torchvision import datasets\n",
    "import torchvision.transforms as transforms\n",
    "\n",
    "# number of subprocesses to use for data loading\n",
    "num_workers = 0\n",
    "# how many samples per batch to load\n",
    "batch_size = 64\n",
    "\n",
    "# convert data to torch.FloatTensor\n",
    "transform = transforms.ToTensor()\n",
    "\n",
    "# get the training datasets\n",
    "# don't need test data here, we just train to get similar images, test for classifiaction problem\n",
    "train_data = datasets.MNIST(root='data', train=True, download=True, transform=transform)\n",
    "\n",
    "# prepare data loader\n",
    "train_loader = torch.utils.data.DataLoader(train_data, batch_size=batch_size, num_workers=num_workers)"
   ]
  },
  {
   "cell_type": "markdown",
   "metadata": {},
   "source": [
    "### Visualize the data"
   ]
  },
  {
   "cell_type": "code",
   "execution_count": 9,
   "metadata": {},
   "outputs": [
    {
     "name": "stdout",
     "output_type": "stream",
     "text": [
      "(1, 28, 28)\n",
      "(28, 28)\n"
     ]
    },
    {
     "data": {
      "text/plain": "<matplotlib.image.AxesImage at 0x12cd23f10>"
     },
     "execution_count": 9,
     "metadata": {},
     "output_type": "execute_result"
    },
    {
     "data": {
      "text/plain": "<Figure size 216x216 with 1 Axes>",
      "image/png": "[encoded data removed]"
     },
     "metadata": {
      "needs_background": "light"
     },
     "output_type": "display_data"
    }
   ],
   "source": [
    "# obtain one batch of training images\n",
    "dataiter = iter(train_loader)\n",
    "images, labels = dataiter.next() # take text batch\n",
    "images = images.numpy()\n",
    "\n",
    "# get one image from the batch\n",
    "print(images[0].shape)\n",
    "img = np.squeeze(images[0])\n",
    "print(img.shape)\n",
    "\n",
    "fig = plt.figure(figsize = (3,3)) \n",
    "ax = fig.add_subplot(111)\n",
    "ax.imshow(img, cmap='gray')"
   ]
  },
  {
   "cell_type": "markdown",
   "metadata": {},
   "source": [
    "\n",
    "---\n",
    "# Define the Model\n",
    "\n",
    "A GAN is comprised of two adversarial networks, a discriminator and a generator."
   ]
  },
  {
   "cell_type": "markdown",
   "metadata": {},
   "source": [
    "## Discriminator\n",
    "\n",
    "The discriminator network is going to be a pretty typical linear classifier. To make this network a universal function approximator, we'll need at least one hidden layer, and these hidden layers should have one key attribute:\n",
    "> All hidden layers will have a [Leaky ReLu](https://pytorch.org/docs/stable/nn.html#torch.nn.LeakyReLU) activation function applied to their outputs.\n",
    "\n",
    "<img src='assets/gan_network.png' width=70% />\n",
    "\n",
    "#### Leaky ReLu\n",
    "\n",
    "We should use a leaky ReLU to allow gradients to flow backwards through the layer unimpeded. A leaky ReLU is like a normal ReLU, except that there is a small non-zero output for negative input values.\n",
    "\n",
    "<img src='assets/leaky_relu.png' width=40% />\n",
    "\n",
    "#### Sigmoid Output\n",
    "\n",
    "We'll also take the approach of using a more numerically stable loss function on the outputs. Recall that we want the discriminator to output a value 0-1 indicating whether an image is _real or fake_. \n",
    "> We will ultimately use [BCEWithLogitsLoss](https://pytorch.org/docs/stable/nn.html#bcewithlogitsloss), which combines a `sigmoid` activation function **and** and binary cross entropy loss in one function. \n",
    "\n",
    "So, our final output layer should not have any activation function applied to it."
   ]
  },
  {
   "cell_type": "code",
   "execution_count": 13,
   "metadata": {},
   "outputs": [],
   "source": [
    "import torch.nn as nn\n",
    "import torch.nn.functional as F\n",
    "\n",
    "class Discriminator(nn.Module):\n",
    "\n",
    "    def __init__(self, input_size, hidden_dim, output_size):\n",
    "        super(Discriminator, self).__init__()\n",
    "\n",
    "        # define all layers\n",
    "        self.hidden_1 = nn.Linear(input_size, hidden_dim * 2)\n",
    "        self.hidden_2 = nn.Linear(hidden_dim * 2, hidden_dim)\n",
    "        self.output = nn.Linear(hidden_dim, output_size) # output is 1 number: yes/no\n",
    "        self.dropout = nn.Dropout(0.3) # good in general\n",
    "        self.lrelu = nn.LeakyReLU(0.2) # 0.2 according to literature works ok here\n",
    "\n",
    "    def forward(self, x):\n",
    "        # flatten image\n",
    "        x = x.view(-1, 28*28) # ensure shape\n",
    "        \n",
    "        # pass x through all layers\n",
    "        # apply leaky relu activation to all hidden layers\n",
    "        x = self.lrelu(self.hidden_1(x))\n",
    "        x = self.dropout(x)\n",
    "\n",
    "        x = self.lrelu(self.hidden_2(x))\n",
    "        x = self.dropout(x)\n",
    "\n",
    "        x = self.output(x)\n",
    "\n",
    "        # loss function will include sigmoid step\n",
    "        return x\n"
   ]
  },
  {
   "cell_type": "markdown",
   "metadata": {},
   "source": [
    "## Generator\n",
    "\n",
    "The generator network will be almost exactly the same as the discriminator network, except that we're applying a [tanh activation function](https://pytorch.org/docs/stable/nn.html#tanh) to our output layer.\n",
    "\n",
    "#### tanh Output\n",
    "The generator has been found to perform the best with $tanh$ for the generator output, which scales the output to be between -1 and 1, instead of 0 and 1. \n",
    "\n",
    "<img src='assets/tanh_fn.png' width=40% />\n",
    "\n",
    "Recall that we also want these outputs to be comparable to the *real* input pixel values, which are read in as normalized values between 0 and 1. \n",
    "> So, we'll also have to **scale our real input images to have pixel values between -1 and 1** when we train the discriminator. \n",
    "\n",
    "I'll do this in the training loop, later on."
   ]
  },
  {
   "cell_type": "code",
   "execution_count": 14,
   "metadata": {},
   "outputs": [],
   "source": [
    "class Generator(nn.Module):\n",
    "\n",
    "    def __init__(self, input_size, hidden_dim, output_size):\n",
    "        super(Generator, self).__init__()\n",
    "\n",
    "        # ~similar to discriminator, but hidden layers should not shrink, but enlarge\n",
    "\n",
    "        # define all layers\n",
    "        self.hidden_1 = nn.Linear(input_size, hidden_dim)\n",
    "        self.hidden_2 = nn.Linear(hidden_dim, hidden_dim * 2)\n",
    "        self.output = nn.Linear(hidden_dim * 2, output_size) # output is final image\n",
    "        self.dropout = nn.Dropout(0.3) # good in general\n",
    "        self.lrelu = nn.LeakyReLU(0.2)\n",
    "\n",
    "    def forward(self, x):\n",
    "        # pass x through all layers\n",
    "        \n",
    "        # pass x through all layers\n",
    "        # apply leaky relu activation to all hidden layers\n",
    "        x = self.lrelu(self.hidden_1(x))\n",
    "        x = self.dropout(x)\n",
    "\n",
    "        x = self.lrelu(self.hidden_2(x))\n",
    "        x = self.dropout(x)\n",
    "\n",
    "        x = F.tanh(self.output(x))\n",
    "\n",
    "        return x"
   ]
  },
  {
   "cell_type": "markdown",
   "metadata": {},
   "source": [
    "## Model hyperparameters"
   ]
  },
  {
   "cell_type": "code",
   "execution_count": 20,
   "metadata": {},
   "outputs": [],
   "source": [
    "# Discriminator hyperparams\n",
    "\n",
    "# Size of input image to discriminator (28*28)\n",
    "input_size = 28*28\n",
    "# Size of discriminator output (real or fake)\n",
    "d_output_size = 1\n",
    "# Size of *last* hidden layer in the discriminator\n",
    "d_hidden_size = 64\n",
    "\n",
    "# Generator hyperparams\n",
    "\n",
    "# Size of latent vector to give to generator\n",
    "z_size = 32\n",
    "# Size of discriminator output (generated image)\n",
    "g_output_size = input_size\n",
    "# Size of *first* hidden layer in the generator\n",
    "g_hidden_size = d_hidden_size"
   ]
  },
  {
   "cell_type": "markdown",
   "metadata": {},
   "source": [
    "## Build complete network\n",
    "\n",
    "Now we're instantiating the discriminator and generator from the classes defined above. Make sure you've passed in the correct input arguments."
   ]
  },
  {
   "cell_type": "code",
   "execution_count": 21,
   "metadata": {},
   "outputs": [
    {
     "name": "stdout",
     "output_type": "stream",
     "text": [
      "Discriminator(\n",
      "  (hidden_1): Linear(in_features=784, out_features=128, bias=True)\n",
      "  (hidden_2): Linear(in_features=128, out_features=64, bias=True)\n",
      "  (output): Linear(in_features=64, out_features=1, bias=True)\n",
      "  (dropout): Dropout(p=0.3, inplace=False)\n",
      "  (lrelu): LeakyReLU(negative_slope=0.2)\n",
      ")\n",
      "\n",
      "Generator(\n",
      "  (hidden_1): Linear(in_features=32, out_features=64, bias=True)\n",
      "  (hidden_2): Linear(in_features=64, out_features=128, bias=True)\n",
      "  (output): Linear(in_features=128, out_features=784, bias=True)\n",
      "  (dropout): Dropout(p=0.3, inplace=False)\n",
      "  (lrelu): LeakyReLU(negative_slope=0.2)\n",
      ")\n"
     ]
    }
   ],
   "source": [
    "# instantiate discriminator and generator\n",
    "D = Discriminator(input_size, d_hidden_size, d_output_size)\n",
    "G = Generator(z_size, g_hidden_size, g_output_size)\n",
    "\n",
    "# check that they are as you expect\n",
    "print(D)\n",
    "print()\n",
    "print(G)"
   ]
  },
  {
   "cell_type": "markdown",
   "metadata": {},
   "source": [
    "\n",
    "---\n",
    "## Discriminator and Generator Losses\n",
    "\n",
    "Now we need to calculate the losses. \n",
    "\n",
    "### Discriminator Losses\n",
    "\n",
    "> * For the discriminator, the total loss is the sum of the losses for real and fake images, `d_loss = d_real_loss + d_fake_loss`. \n",
    "* Remember that we want the discriminator to output 1 for real images and 0 for fake images, so we need to set up the losses to reflect that.\n",
    "\n",
    "<img src='assets/gan_pipeline.png' width=70% />\n",
    "\n",
    "The losses will by binary cross entropy loss with logits, which we can get with [BCEWithLogitsLoss](https://pytorch.org/docs/stable/nn.html#bcewithlogitsloss). This combines a `sigmoid` activation function **and** and binary cross entropy loss in one function.\n",
    "\n",
    "For the real images, we want `D(real_images) = 1`. That is, we want the discriminator to classify the the real images with a label = 1, indicating that these are real. To help the discriminator generalize better, the labels are **reduced a bit from 1.0 to 0.9**. For this, we'll use the parameter `smooth`; if True, then we should smooth our labels. In PyTorch, this looks like `labels = torch.ones(size) * 0.9`\n",
    "\n",
    "The discriminator loss for the fake data is similar. We want `D(fake_images) = 0`, where the fake images are the _generator output_, `fake_images = G(z)`. \n",
    "\n",
    "### Generator Loss\n",
    "\n",
    "The generator loss will look similar only with flipped labels. The generator's goal is to get `D(fake_images) = 1`. In this case, the labels are **flipped** to represent that the generator is trying to fool the discriminator into thinking that the images it generates (fakes) are real!"
   ]
  },
  {
   "cell_type": "code",
   "execution_count": 41,
   "metadata": {},
   "outputs": [],
   "source": [
    "# Calculate losses\n",
    "def real_loss(D_out: torch.Tensor, smooth=False):\n",
    "    batch_size = D_out.shape[0]\n",
    "\n",
    "    labels = torch.ones(batch_size) # real images labels: 1\n",
    "\n",
    "    # smooth labels if smooth=True\n",
    "    if smooth:\n",
    "        labels = labels * 0.9\n",
    "\n",
    "    # compare logits to real labels\n",
    "    criterion = nn.BCEWithLogitsLoss()\n",
    "    loss = criterion(D_out.squeeze(), labels) # smooth for better generalization, includes sigmoid\n",
    "    return loss\n",
    "\n",
    "def fake_loss(D_out: torch.Tensor):\n",
    "    batch_size = D_out.shape[0]\n",
    "    # compare logits to fake labels\n",
    "    labels = torch.zeros(batch_size) # fake images labels: 0\n",
    "    criterion = nn.BCEWithLogitsLoss()\n",
    "    loss = criterion(D_out.squeeze(), labels)\n",
    "    return loss"
   ]
  },
  {
   "cell_type": "code",
   "execution_count": 42,
   "outputs": [
    {
     "name": "stdout",
     "output_type": "stream",
     "text": [
      "torch.Size([3, 2, 2])\n",
      "3\n",
      "3\n",
      "3\n",
      "tensor([[[0.4149, 0.0218],\n",
      "         [0.0072, 0.3489]],\n",
      "\n",
      "        [[0.7585, 0.2334],\n",
      "         [0.7327, 0.2730]],\n",
      "\n",
      "        [[0.8460, 0.8842],\n",
      "         [0.3845, 0.1557]]], dtype=torch.float64)\n"
     ]
    }
   ],
   "source": [
    "tmp = torch.from_numpy(np.random.random(size=(3, 2, 2)))\n",
    "print(tmp.size())\n",
    "print(tmp.size()[0])\n",
    "print(tmp.size(0))\n",
    "print(tmp.shape[0])\n",
    "print(tmp)"
   ],
   "metadata": {
    "collapsed": false,
    "pycharm": {
     "name": "#%%\n"
    }
   }
  },
  {
   "cell_type": "markdown",
   "metadata": {},
   "source": [
    "## Optimizers\n",
    "\n",
    "We want to update the generator and discriminator variables separately. So, we'll define two separate Adam optimizers."
   ]
  },
  {
   "cell_type": "code",
   "execution_count": 43,
   "metadata": {
    "scrolled": true
   },
   "outputs": [],
   "source": [
    "import torch.optim as optim\n",
    "\n",
    "# learning rate for optimizers\n",
    "lr = 0.002\n",
    "\n",
    "# Create optimizers for the discriminator and generator\n",
    "d_optimizer = optim.Adam(D.parameters(), lr)\n",
    "g_optimizer = optim.Adam(G.parameters(), lr)"
   ]
  },
  {
   "cell_type": "markdown",
   "metadata": {},
   "source": [
    "\n",
    "---\n",
    "## Training\n",
    "\n",
    "Training will involve alternating between training the discriminator and the generator. We'll use our functions `real_loss` and `fake_loss` to help us calculate the discriminator losses in all of the following cases.\n",
    "\n",
    "### Discriminator training\n",
    "1. Compute the discriminator loss on real, training images        \n",
    "2. Generate fake images\n",
    "3. Compute the discriminator loss on fake, generated images     \n",
    "4. Add up real and fake loss\n",
    "5. Perform backpropagation + an optimization step to update the discriminator's weights\n",
    "\n",
    "### Generator training\n",
    "1. Generate fake images\n",
    "2. Compute the discriminator loss on fake images, using **flipped** labels!\n",
    "3. Perform backpropagation + an optimization step to update the generator's weights\n",
    "\n",
    "#### Saving Samples\n",
    "\n",
    "As we train, we'll also print out some loss statistics and save some generated \"fake\" samples."
   ]
  },
  {
   "cell_type": "code",
   "execution_count": 45,
   "metadata": {
    "scrolled": true
   },
   "outputs": [
    {
     "name": "stdout",
     "output_type": "stream",
     "text": [
      "Epoch [    1/   40] | d_loss: 1.2720 | g_loss: 2.1531\n",
      "Epoch [    1/   40] | d_loss: 1.0398 | g_loss: 2.0236\n",
      "Epoch [    1/   40] | d_loss: 0.7992 | g_loss: 3.1989\n",
      "Epoch [    2/   40] | d_loss: 0.7822 | g_loss: 3.3261\n",
      "Epoch [    2/   40] | d_loss: 0.8766 | g_loss: 2.4926\n",
      "Epoch [    2/   40] | d_loss: 0.9216 | g_loss: 2.3109\n",
      "Epoch [    3/   40] | d_loss: 1.4887 | g_loss: 1.6117\n",
      "Epoch [    3/   40] | d_loss: 0.7939 | g_loss: 2.4345\n",
      "Epoch [    3/   40] | d_loss: 0.9398 | g_loss: 2.3292\n",
      "Epoch [    4/   40] | d_loss: 1.1872 | g_loss: 1.5296\n",
      "Epoch [    4/   40] | d_loss: 1.2436 | g_loss: 1.5712\n",
      "Epoch [    4/   40] | d_loss: 1.0959 | g_loss: 1.5464\n",
      "Epoch [    5/   40] | d_loss: 0.8928 | g_loss: 2.4102\n",
      "Epoch [    5/   40] | d_loss: 1.2634 | g_loss: 1.1782\n",
      "Epoch [    5/   40] | d_loss: 0.9772 | g_loss: 2.2937\n",
      "Epoch [    6/   40] | d_loss: 1.0420 | g_loss: 1.5474\n",
      "Epoch [    6/   40] | d_loss: 1.3447 | g_loss: 1.4232\n",
      "Epoch [    6/   40] | d_loss: 1.1610 | g_loss: 1.4670\n",
      "Epoch [    7/   40] | d_loss: 1.1770 | g_loss: 1.0749\n",
      "Epoch [    7/   40] | d_loss: 1.1387 | g_loss: 1.2027\n",
      "Epoch [    7/   40] | d_loss: 1.0615 | g_loss: 1.4442\n",
      "Epoch [    8/   40] | d_loss: 1.1207 | g_loss: 0.9450\n",
      "Epoch [    8/   40] | d_loss: 1.1309 | g_loss: 1.8897\n",
      "Epoch [    8/   40] | d_loss: 1.3385 | g_loss: 1.5622\n",
      "Epoch [    9/   40] | d_loss: 1.2266 | g_loss: 1.0050\n",
      "Epoch [    9/   40] | d_loss: 1.1931 | g_loss: 1.4886\n",
      "Epoch [    9/   40] | d_loss: 1.2140 | g_loss: 1.0146\n",
      "Epoch [   10/   40] | d_loss: 1.2889 | g_loss: 1.3206\n",
      "Epoch [   10/   40] | d_loss: 1.3123 | g_loss: 1.2307\n",
      "Epoch [   10/   40] | d_loss: 1.3350 | g_loss: 1.0449\n",
      "Epoch [   11/   40] | d_loss: 1.3067 | g_loss: 0.8633\n",
      "Epoch [   11/   40] | d_loss: 1.2613 | g_loss: 1.1621\n",
      "Epoch [   11/   40] | d_loss: 1.2685 | g_loss: 0.9670\n",
      "Epoch [   12/   40] | d_loss: 1.2970 | g_loss: 1.0718\n",
      "Epoch [   12/   40] | d_loss: 1.3214 | g_loss: 1.0146\n",
      "Epoch [   12/   40] | d_loss: 1.4625 | g_loss: 1.1932\n",
      "Epoch [   13/   40] | d_loss: 1.2684 | g_loss: 0.9565\n",
      "Epoch [   13/   40] | d_loss: 1.3391 | g_loss: 0.9690\n",
      "Epoch [   13/   40] | d_loss: 1.3741 | g_loss: 1.1022\n",
      "Epoch [   14/   40] | d_loss: 1.3112 | g_loss: 1.1095\n",
      "Epoch [   14/   40] | d_loss: 1.2577 | g_loss: 1.2942\n",
      "Epoch [   14/   40] | d_loss: 1.2923 | g_loss: 1.0538\n",
      "Epoch [   15/   40] | d_loss: 1.3249 | g_loss: 0.8372\n",
      "Epoch [   15/   40] | d_loss: 1.1409 | g_loss: 1.2106\n",
      "Epoch [   15/   40] | d_loss: 1.2135 | g_loss: 1.0268\n",
      "Epoch [   16/   40] | d_loss: 1.2736 | g_loss: 1.0715\n",
      "Epoch [   16/   40] | d_loss: 1.3069 | g_loss: 1.1365\n",
      "Epoch [   16/   40] | d_loss: 1.5498 | g_loss: 0.8107\n",
      "Epoch [   17/   40] | d_loss: 1.2676 | g_loss: 0.9026\n",
      "Epoch [   17/   40] | d_loss: 1.3443 | g_loss: 0.8831\n",
      "Epoch [   17/   40] | d_loss: 1.3978 | g_loss: 0.9589\n",
      "Epoch [   18/   40] | d_loss: 1.3536 | g_loss: 0.7906\n",
      "Epoch [   18/   40] | d_loss: 1.2626 | g_loss: 1.0671\n",
      "Epoch [   18/   40] | d_loss: 1.2959 | g_loss: 0.8947\n",
      "Epoch [   19/   40] | d_loss: 1.4047 | g_loss: 0.9549\n",
      "Epoch [   19/   40] | d_loss: 1.2473 | g_loss: 1.2573\n",
      "Epoch [   19/   40] | d_loss: 1.2270 | g_loss: 1.1547\n",
      "Epoch [   20/   40] | d_loss: 1.2800 | g_loss: 1.1889\n",
      "Epoch [   20/   40] | d_loss: 1.1878 | g_loss: 0.9767\n",
      "Epoch [   20/   40] | d_loss: 1.3423 | g_loss: 0.9620\n",
      "Epoch [   21/   40] | d_loss: 1.4228 | g_loss: 0.9066\n",
      "Epoch [   21/   40] | d_loss: 1.2998 | g_loss: 1.1822\n",
      "Epoch [   21/   40] | d_loss: 1.4474 | g_loss: 1.0148\n",
      "Epoch [   22/   40] | d_loss: 1.3999 | g_loss: 0.8997\n",
      "Epoch [   22/   40] | d_loss: 1.2755 | g_loss: 1.0550\n",
      "Epoch [   22/   40] | d_loss: 1.3536 | g_loss: 1.0155\n",
      "Epoch [   23/   40] | d_loss: 1.3396 | g_loss: 1.3295\n",
      "Epoch [   23/   40] | d_loss: 1.2832 | g_loss: 1.0637\n",
      "Epoch [   23/   40] | d_loss: 1.3558 | g_loss: 1.0696\n",
      "Epoch [   24/   40] | d_loss: 1.3318 | g_loss: 1.1665\n",
      "Epoch [   24/   40] | d_loss: 1.2371 | g_loss: 1.0784\n",
      "Epoch [   24/   40] | d_loss: 1.2588 | g_loss: 1.1847\n",
      "Epoch [   25/   40] | d_loss: 1.2701 | g_loss: 0.9990\n",
      "Epoch [   25/   40] | d_loss: 1.2410 | g_loss: 1.1253\n",
      "Epoch [   25/   40] | d_loss: 1.2846 | g_loss: 1.1057\n",
      "Epoch [   26/   40] | d_loss: 1.2699 | g_loss: 1.1454\n",
      "Epoch [   26/   40] | d_loss: 1.3284 | g_loss: 0.9340\n",
      "Epoch [   26/   40] | d_loss: 1.2732 | g_loss: 0.8278\n",
      "Epoch [   27/   40] | d_loss: 1.2846 | g_loss: 1.1885\n",
      "Epoch [   27/   40] | d_loss: 1.2022 | g_loss: 1.2136\n",
      "Epoch [   27/   40] | d_loss: 1.3251 | g_loss: 0.9937\n",
      "Epoch [   28/   40] | d_loss: 1.3916 | g_loss: 1.1300\n",
      "Epoch [   28/   40] | d_loss: 1.1858 | g_loss: 0.8462\n",
      "Epoch [   28/   40] | d_loss: 1.4203 | g_loss: 0.7902\n",
      "Epoch [   29/   40] | d_loss: 1.3277 | g_loss: 1.0283\n",
      "Epoch [   29/   40] | d_loss: 1.2598 | g_loss: 0.9933\n",
      "Epoch [   29/   40] | d_loss: 1.3659 | g_loss: 1.0994\n",
      "Epoch [   30/   40] | d_loss: 1.2855 | g_loss: 0.8463\n",
      "Epoch [   30/   40] | d_loss: 1.2726 | g_loss: 0.8982\n",
      "Epoch [   30/   40] | d_loss: 1.4378 | g_loss: 0.9502\n",
      "Epoch [   31/   40] | d_loss: 1.3961 | g_loss: 1.0498\n",
      "Epoch [   31/   40] | d_loss: 1.2491 | g_loss: 1.0060\n",
      "Epoch [   31/   40] | d_loss: 1.4358 | g_loss: 1.0820\n",
      "Epoch [   32/   40] | d_loss: 1.3639 | g_loss: 0.9739\n",
      "Epoch [   32/   40] | d_loss: 1.3155 | g_loss: 0.9637\n",
      "Epoch [   32/   40] | d_loss: 1.3195 | g_loss: 1.0960\n",
      "Epoch [   33/   40] | d_loss: 1.2343 | g_loss: 1.0393\n",
      "Epoch [   33/   40] | d_loss: 1.3261 | g_loss: 0.8941\n",
      "Epoch [   33/   40] | d_loss: 1.5212 | g_loss: 1.0353\n",
      "Epoch [   34/   40] | d_loss: 1.3147 | g_loss: 1.2488\n",
      "Epoch [   34/   40] | d_loss: 1.3387 | g_loss: 0.8957\n",
      "Epoch [   34/   40] | d_loss: 1.3536 | g_loss: 0.9910\n",
      "Epoch [   35/   40] | d_loss: 1.2529 | g_loss: 1.0456\n",
      "Epoch [   35/   40] | d_loss: 1.2985 | g_loss: 0.9346\n",
      "Epoch [   35/   40] | d_loss: 1.4354 | g_loss: 1.4705\n",
      "Epoch [   36/   40] | d_loss: 1.4040 | g_loss: 1.1104\n",
      "Epoch [   36/   40] | d_loss: 1.2738 | g_loss: 1.0417\n",
      "Epoch [   36/   40] | d_loss: 1.4214 | g_loss: 0.9774\n",
      "Epoch [   37/   40] | d_loss: 1.3565 | g_loss: 1.1503\n",
      "Epoch [   37/   40] | d_loss: 1.2888 | g_loss: 0.8769\n",
      "Epoch [   37/   40] | d_loss: 1.2969 | g_loss: 0.9255\n",
      "Epoch [   38/   40] | d_loss: 1.3299 | g_loss: 0.9451\n",
      "Epoch [   38/   40] | d_loss: 1.3115 | g_loss: 0.9165\n",
      "Epoch [   38/   40] | d_loss: 1.2764 | g_loss: 0.9373\n",
      "Epoch [   39/   40] | d_loss: 1.2986 | g_loss: 0.9846\n",
      "Epoch [   39/   40] | d_loss: 1.2763 | g_loss: 1.1184\n",
      "Epoch [   39/   40] | d_loss: 1.3397 | g_loss: 1.0172\n",
      "Epoch [   40/   40] | d_loss: 1.3793 | g_loss: 0.9630\n",
      "Epoch [   40/   40] | d_loss: 1.2711 | g_loss: 1.0517\n",
      "Epoch [   40/   40] | d_loss: 1.4609 | g_loss: 1.1861\n"
     ]
    }
   ],
   "source": [
    "import pickle as pkl\n",
    "\n",
    "# training hyperparams\n",
    "num_epochs = 40\n",
    "\n",
    "# keep track of loss and generated, \"fake\" samples\n",
    "samples = []\n",
    "losses = []\n",
    "\n",
    "print_every = 400\n",
    "\n",
    "# Get some fixed data for sampling. These are images that are held\n",
    "# constant throughout training, and allow us to inspect the model's performance\n",
    "sample_size=16\n",
    "fixed_z = np.random.uniform(-1, 1, size=(sample_size, z_size))\n",
    "fixed_z = torch.from_numpy(fixed_z).float()\n",
    "\n",
    "# train the network\n",
    "D.train()\n",
    "G.train()\n",
    "for epoch in range(num_epochs):\n",
    "    \n",
    "    for batch_i, (real_images, _) in enumerate(train_loader):\n",
    "                \n",
    "        batch_size = real_images.size(0)\n",
    "        \n",
    "        ## Important rescaling step ## \n",
    "        # reason because tanh scales output to [-1, 1), so values should be comparable\n",
    "        real_images = real_images*2 - 1    # rescale input images from [0,1) to [-1, 1),\n",
    "\n",
    "\n",
    "        # ============================================\n",
    "        #            TRAIN THE DISCRIMINATOR\n",
    "        # ============================================\n",
    "\n",
    "        # 1. Train with real images\n",
    "\n",
    "        # Compute the discriminator losses on real images\n",
    "        # use smoothed labels\n",
    "        d_out = D(real_images)\n",
    "        d_loss_real = real_loss(d_out, smooth=True)\n",
    "        \n",
    "        # 2. Train with fake images\n",
    "\n",
    "        # Generate fake images\n",
    "        z = np.random.uniform(-1, 1, size=(batch_size, z_size))\n",
    "        z = torch.from_numpy(z).float()\n",
    "        fake_images = G(z)\n",
    "        \n",
    "        # Compute the discriminator losses on fake images\n",
    "        d_fake = D(fake_images)\n",
    "        d_loss_fake= fake_loss(d_fake)\n",
    "        \n",
    "        # add up real and fake losses\n",
    "        d_loss = d_loss_fake + d_loss_real\n",
    "\n",
    "        # perform backprop\n",
    "        d_optimizer.zero_grad() # zero before backpropagation, because it accums gradients\n",
    "        d_loss.backward()\n",
    "        d_optimizer.step()\n",
    "        \n",
    "        # =========================================\n",
    "        #            TRAIN THE GENERATOR\n",
    "        # =========================================\n",
    "\n",
    "        # 1. Train with fake images and flipped labels\n",
    "        \n",
    "        # Generate fake images\n",
    "        z = np.random.uniform(-1, 1, size=(batch_size, z_size))\n",
    "        z = torch.from_numpy(z).float()\n",
    "        fake_images = G(z)\n",
    "        \n",
    "        # Compute the discriminator losses on fake images \n",
    "        # using flipped labels!\n",
    "        d_fake = D(fake_images)\n",
    "        g_loss = real_loss(d_fake, smooth=False)\n",
    "\n",
    "        # perform backprop\n",
    "        g_optimizer.zero_grad() # zero before backpropagation,  because it accums gradients\n",
    "        g_loss.backward()\n",
    "        g_optimizer.step()\n",
    "\n",
    "        # Print some loss stats\n",
    "        if batch_i % print_every == 0:\n",
    "            # print discriminator and generator loss\n",
    "            print('Epoch [{:5d}/{:5d}] | d_loss: {:6.4f} | g_loss: {:6.4f}'.format(\n",
    "                    epoch+1, num_epochs, d_loss.item(), g_loss.item()))\n",
    "\n",
    "    \n",
    "    ## AFTER EACH EPOCH##\n",
    "    # append discriminator loss and generator loss\n",
    "    losses.append((d_loss.item(), g_loss.item()))\n",
    "    \n",
    "    # generate and save sample, fake images\n",
    "    G.eval() # eval mode for generating samples\n",
    "    samples_z = G(fixed_z)\n",
    "    samples.append(samples_z)\n",
    "    G.train() # back to train mode\n",
    "\n",
    "\n",
    "# Save training generator samples\n",
    "with open('train_samples.pkl', 'wb') as f:\n",
    "    pkl.dump(samples, f)"
   ]
  },
  {
   "cell_type": "markdown",
   "metadata": {},
   "source": [
    "## Training loss\n",
    "\n",
    "Here we'll plot the training losses for the generator and discriminator, recorded after each epoch."
   ]
  },
  {
   "cell_type": "code",
   "execution_count": 46,
   "metadata": {},
   "outputs": [
    {
     "data": {
      "text/plain": "<matplotlib.legend.Legend at 0x131940e80>"
     },
     "execution_count": 46,
     "metadata": {},
     "output_type": "execute_result"
    },
    {
     "data": {
      "text/plain": "<Figure size 432x288 with 1 Axes>",
      "image/png": "[encoded data removed]"
     },
     "metadata": {
      "needs_background": "light"
     },
     "output_type": "display_data"
    }
   ],
   "source": [
    "fig, ax = plt.subplots()\n",
    "losses = np.array(losses)\n",
    "plt.plot(losses.T[0], label='Discriminator')\n",
    "plt.plot(losses.T[1], label='Generator')\n",
    "plt.title(\"Training Losses\")\n",
    "plt.legend()"
   ]
  },
  {
   "cell_type": "markdown",
   "metadata": {},
   "source": [
    "## Generator samples from training\n",
    "\n",
    "Here we can view samples of images from the generator. First we'll look at the images we saved during training."
   ]
  },
  {
   "cell_type": "code",
   "execution_count": 47,
   "metadata": {},
   "outputs": [],
   "source": [
    "# helper function for viewing a list of passed in sample images\n",
    "def view_samples(epoch, samples):\n",
    "    fig, axes = plt.subplots(figsize=(7,7), nrows=4, ncols=4, sharey=True, sharex=True)\n",
    "    for ax, img in zip(axes.flatten(), samples[epoch]):\n",
    "        img = img.detach()\n",
    "        ax.xaxis.set_visible(False)\n",
    "        ax.yaxis.set_visible(False)\n",
    "        im = ax.imshow(img.reshape((28,28)), cmap='Greys_r')"
   ]
  },
  {
   "cell_type": "code",
   "execution_count": 48,
   "metadata": {},
   "outputs": [],
   "source": [
    "# Load samples from generator, taken while training\n",
    "with open('train_samples.pkl', 'rb') as f:\n",
    "    samples = pkl.load(f)"
   ]
  },
  {
   "cell_type": "markdown",
   "metadata": {},
   "source": [
    "These are samples from the final training epoch. You can see the generator is able to reproduce numbers like 1, 7, 3, 2. Since this is just a sample, it isn't representative of the full range of images this generator can make."
   ]
  },
  {
   "cell_type": "code",
   "execution_count": 49,
   "metadata": {},
   "outputs": [
    {
     "data": {
      "text/plain": "<Figure size 504x504 with 16 Axes>",
      "image/png": "[encoded data removed]"
     },
     "metadata": {
      "needs_background": "light"
     },
     "output_type": "display_data"
    }
   ],
   "source": [
    "# -1 indicates final epoch's samples (the last in the list)\n",
    "view_samples(-1, samples)"
   ]
  },
  {
   "cell_type": "markdown",
   "metadata": {},
   "source": [
    "Below I'm showing the generated images as the network was training, every 10 epochs."
   ]
  },
  {
   "cell_type": "code",
   "execution_count": 50,
   "metadata": {},
   "outputs": [
    {
     "data": {
      "text/plain": "<Figure size 504x864 with 60 Axes>",
      "image/png": "[encoded data removed]"
     },
     "metadata": {
      "needs_background": "light"
     },
     "output_type": "display_data"
    }
   ],
   "source": [
    "rows = 10 # split epochs into 10, so 100/10 = every 10 epochs\n",
    "cols = 6\n",
    "fig, axes = plt.subplots(figsize=(7,12), nrows=rows, ncols=cols, sharex=True, sharey=True)\n",
    "\n",
    "for sample, ax_row in zip(samples[::int(len(samples)/rows)], axes):\n",
    "    for img, ax in zip(sample[::int(len(sample)/cols)], ax_row):\n",
    "        img = img.detach()\n",
    "        ax.imshow(img.reshape((28,28)), cmap='Greys_r')\n",
    "        ax.xaxis.set_visible(False)\n",
    "        ax.yaxis.set_visible(False)"
   ]
  },
  {
   "cell_type": "markdown",
   "metadata": {},
   "source": [
    "It starts out as all noise. Then it learns to make only the center white and the rest black. You can start to see some number like structures appear out of the noise like 1s and 9s."
   ]
  },
  {
   "cell_type": "markdown",
   "metadata": {},
   "source": [
    "## Sampling from the generator\n",
    "\n",
    "We can also get completely new images from the generator by using the checkpoint we saved after training. **We just need to pass in a new latent vector $z$ and we'll get new samples**!"
   ]
  },
  {
   "cell_type": "code",
   "execution_count": 51,
   "metadata": {
    "pycharm": {
     "name": "#%%\n"
    }
   },
   "outputs": [
    {
     "data": {
      "text/plain": "<Figure size 504x504 with 16 Axes>",
      "image/png": "[encoded data removed]"
     },
     "metadata": {
      "needs_background": "light"
     },
     "output_type": "display_data"
    }
   ],
   "source": [
    "# randomly generated, new latent vectors\n",
    "sample_size=16\n",
    "rand_z = np.random.uniform(-1, 1, size=(sample_size, z_size))\n",
    "rand_z = torch.from_numpy(rand_z).float()\n",
    "\n",
    "G.eval() # eval mode\n",
    "# generated samples\n",
    "rand_images = G(rand_z)\n",
    "\n",
    "# 0 indicates the first set of samples in the passed in list\n",
    "# and we only have one batch of samples, here\n",
    "view_samples(0, [rand_images])"
   ]
  }
 ],
 "metadata": {
  "kernelspec": {
   "display_name": "Python 3",
   "language": "python",
   "name": "python3"
  },
  "language_info": {
   "codemirror_mode": {
    "name": "ipython",
    "version": 3
   },
   "file_extension": ".py",
   "mimetype": "text/x-python",
   "name": "python",
   "nbconvert_exporter": "python",
   "pygments_lexer": "ipython3",
   "version": "3.6.3"
  }
 },
 "nbformat": 4,
 "nbformat_minor": 2
}